{
 "cells": [
  {
   "cell_type": "code",
   "execution_count": 82,
   "metadata": {},
   "outputs": [],
   "source": [
    "import config\n",
    "import helper_functions\n",
    "import pandas as pd\n",
    "import numpy as np\n",
    "import matplotlib.pyplot as plt\n",
    "import seaborn as sns\n",
    "import mysql.connector\n",
    "import itertools    \n",
    "from mysql.connector import errorcode\n",
    "\n",
    "from sklearn import svm\n",
    "from sklearn import tree\n",
    "from sklearn.dummy import DummyClassifier\n",
    "from sklearn.ensemble import BaggingClassifier, RandomForestClassifier\n",
    "from sklearn.ensemble import AdaBoostClassifier, GradientBoostingClassifier\n",
    "from sklearn.externals.six import StringIO \n",
    "from sklearn.linear_model import LogisticRegression\n",
    "from sklearn.metrics import accuracy_score, confusion_matrix, classification_report\n",
    "from sklearn.metrics import roc_curve, roc_auc_score, auc, f1_score, precision_score, mean_squared_error\n",
    "from sklearn.model_selection import train_test_split, GridSearchCV, cross_val_score\n",
    "from sklearn.pipeline import Pipeline\n",
    "from sklearn.preprocessing import MinMaxScaler, StandardScaler\n",
    "from sklearn.tree import DecisionTreeRegressor, DecisionTreeClassifier, export_graphviz\n",
    "\n",
    "from xgboost import XGBClassifier\n",
    "\n",
    "from IPython.display import Image \n",
    "# import pydotplus"
   ]
  },
  {
   "cell_type": "markdown",
   "metadata": {},
   "source": [
    "## Call DB to retrieve data and save to a dataframe"
   ]
  },
  {
   "cell_type": "code",
   "execution_count": null,
   "metadata": {},
   "outputs": [],
   "source": [
    "db_name = config.db_name"
   ]
  },
  {
   "cell_type": "code",
   "execution_count": null,
   "metadata": {},
   "outputs": [],
   "source": [
    "cnx = mysql.connector.connect(\n",
    "    host=config.host,\n",
    "    user=config.user,\n",
    "    passwd=config.password,\n",
    "    database=db_name,\n",
    "    buffered=True\n",
    ")\n",
    "\n",
    "cursor = cnx.cursor()"
   ]
  },
  {
   "cell_type": "code",
   "execution_count": null,
   "metadata": {
    "scrolled": true
   },
   "outputs": [],
   "source": [
    "execute_statement = \"\"\"\n",
    "                    SELECT \n",
    "                            d.id, d.pk, d.annual_inc, d.more_than_50k, \n",
    "                            d.purpose, d.application_type, d.grade, d.home_ownership,\n",
    "                            d.addr_state, d.zip_code, d.loan_amnt, d.emp_length,\n",
    "                            d.tot_hi_cred_lim, d.fico_range_low, d.dti,\n",
    "                            c.med_inc, c.pk, d.pk\n",
    "                    FROM \n",
    "                            mod5_project.dataset_lendingclub AS d\n",
    "                    LEFT JOIN \n",
    "                            mod5_project.zip_codes AS z\n",
    "                    ON \n",
    "                            d.pk = z.pk1\n",
    "                    LEFT JOIN \n",
    "                            mod5_project.census_median_income_data AS c\n",
    "                    ON \n",
    "                            c.pk = z.pk\n",
    "                    GROUP BY \n",
    "                            d.id\n",
    "                    ;                    \n",
    "                    \"\"\"\n",
    "cursor.execute(execute_statement)\n",
    "df = cursor.fetchall()\n",
    "column = ['id', 'pk', 'annual_inc', 'more_than_50k', \n",
    "          'purpose', 'application_type', 'grade', 'home_ownership', \n",
    "          'addr_state', 'zip_code', 'loan_amnt', 'emp_length', \n",
    "          'tot_hi_cred_lim', 'fico_range_low', 'dti',\n",
    "          'med_inc_county', 'c.pk', 'z.pk'\n",
    "         ]\n",
    "df = pd.DataFrame(df, columns = column)\n",
    "\n",
    "df = df[[  'id','annual_inc','more_than_50k','purpose',\n",
    "           'application_type','grade','home_ownership','addr_state',\n",
    "           'zip_code','loan_amnt','emp_length','tot_hi_cred_lim',\n",
    "           'fico_range_low','dti', 'med_inc_county']]\n",
    "\n",
    "df = df.dropna()\n",
    "df"
   ]
  },
  {
   "cell_type": "markdown",
   "metadata": {},
   "source": [
    "Initial count: 103723 rows × 15 columns\n",
    "There were some rows that did not contain zipcodes from the webscraping and API calls performed\n",
    "\n",
    "After dropping the NaN's: 84090 rows × 15 columns\n",
    "A total of 19633 were dropped"
   ]
  },
  {
   "cell_type": "markdown",
   "metadata": {},
   "source": [
    "### Saving df created to csv for faster calls"
   ]
  },
  {
   "cell_type": "code",
   "execution_count": null,
   "metadata": {},
   "outputs": [],
   "source": [
    "filename = 'cleaned_df.csv'\n",
    "df.to_csv(filename, index=False)"
   ]
  },
  {
   "cell_type": "markdown",
   "metadata": {},
   "source": [
    "### Load from csv"
   ]
  },
  {
   "cell_type": "code",
   "execution_count": 180,
   "metadata": {},
   "outputs": [],
   "source": [
    "df = pd.read_csv('cleaned_df.csv')"
   ]
  },
  {
   "cell_type": "code",
   "execution_count": 181,
   "metadata": {},
   "outputs": [],
   "source": [
    "df.drop(['id','annual_inc','zip_code','addr_state'],axis=1, inplace=True)"
   ]
  },
  {
   "cell_type": "code",
   "execution_count": 182,
   "metadata": {
    "scrolled": true
   },
   "outputs": [
    {
     "data": {
      "text/html": [
       "<div>\n",
       "<style scoped>\n",
       "    .dataframe tbody tr th:only-of-type {\n",
       "        vertical-align: middle;\n",
       "    }\n",
       "\n",
       "    .dataframe tbody tr th {\n",
       "        vertical-align: top;\n",
       "    }\n",
       "\n",
       "    .dataframe thead th {\n",
       "        text-align: right;\n",
       "    }\n",
       "</style>\n",
       "<table border=\"1\" class=\"dataframe\">\n",
       "  <thead>\n",
       "    <tr style=\"text-align: right;\">\n",
       "      <th></th>\n",
       "      <th>more_than_50k</th>\n",
       "      <th>purpose</th>\n",
       "      <th>application_type</th>\n",
       "      <th>grade</th>\n",
       "      <th>home_ownership</th>\n",
       "      <th>loan_amnt</th>\n",
       "      <th>emp_length</th>\n",
       "      <th>tot_hi_cred_lim</th>\n",
       "      <th>fico_range_low</th>\n",
       "      <th>dti</th>\n",
       "      <th>med_inc_county</th>\n",
       "    </tr>\n",
       "  </thead>\n",
       "  <tbody>\n",
       "    <tr>\n",
       "      <th>0</th>\n",
       "      <td>1</td>\n",
       "      <td>debt_consolidation</td>\n",
       "      <td>Joint App</td>\n",
       "      <td>B</td>\n",
       "      <td>MORTGAGE</td>\n",
       "      <td>35000.0</td>\n",
       "      <td>10.0</td>\n",
       "      <td>213475.0</td>\n",
       "      <td>700.0</td>\n",
       "      <td>10.67</td>\n",
       "      <td>35254.0</td>\n",
       "    </tr>\n",
       "    <tr>\n",
       "      <th>1</th>\n",
       "      <td>1</td>\n",
       "      <td>debt_consolidation</td>\n",
       "      <td>Individual</td>\n",
       "      <td>A</td>\n",
       "      <td>OWN</td>\n",
       "      <td>29000.0</td>\n",
       "      <td>0.0</td>\n",
       "      <td>88666.0</td>\n",
       "      <td>685.0</td>\n",
       "      <td>14.39</td>\n",
       "      <td>35254.0</td>\n",
       "    </tr>\n",
       "    <tr>\n",
       "      <th>2</th>\n",
       "      <td>0</td>\n",
       "      <td>credit_card</td>\n",
       "      <td>Joint App</td>\n",
       "      <td>A</td>\n",
       "      <td>OWN</td>\n",
       "      <td>9000.0</td>\n",
       "      <td>8.0</td>\n",
       "      <td>76269.0</td>\n",
       "      <td>720.0</td>\n",
       "      <td>37.13</td>\n",
       "      <td>40492.0</td>\n",
       "    </tr>\n",
       "    <tr>\n",
       "      <th>3</th>\n",
       "      <td>1</td>\n",
       "      <td>debt_consolidation</td>\n",
       "      <td>Individual</td>\n",
       "      <td>C</td>\n",
       "      <td>MORTGAGE</td>\n",
       "      <td>12000.0</td>\n",
       "      <td>10.0</td>\n",
       "      <td>131063.0</td>\n",
       "      <td>760.0</td>\n",
       "      <td>33.12</td>\n",
       "      <td>40492.0</td>\n",
       "    </tr>\n",
       "    <tr>\n",
       "      <th>4</th>\n",
       "      <td>0</td>\n",
       "      <td>credit_card</td>\n",
       "      <td>Individual</td>\n",
       "      <td>A</td>\n",
       "      <td>OWN</td>\n",
       "      <td>10000.0</td>\n",
       "      <td>4.0</td>\n",
       "      <td>52590.0</td>\n",
       "      <td>725.0</td>\n",
       "      <td>12.60</td>\n",
       "      <td>40492.0</td>\n",
       "    </tr>\n",
       "  </tbody>\n",
       "</table>\n",
       "</div>"
      ],
      "text/plain": [
       "   more_than_50k             purpose application_type grade home_ownership  \\\n",
       "0              1  debt_consolidation        Joint App     B       MORTGAGE   \n",
       "1              1  debt_consolidation       Individual     A            OWN   \n",
       "2              0         credit_card        Joint App     A            OWN   \n",
       "3              1  debt_consolidation       Individual     C       MORTGAGE   \n",
       "4              0         credit_card       Individual     A            OWN   \n",
       "\n",
       "   loan_amnt  emp_length  tot_hi_cred_lim  fico_range_low    dti  \\\n",
       "0    35000.0        10.0         213475.0           700.0  10.67   \n",
       "1    29000.0         0.0          88666.0           685.0  14.39   \n",
       "2     9000.0         8.0          76269.0           720.0  37.13   \n",
       "3    12000.0        10.0         131063.0           760.0  33.12   \n",
       "4    10000.0         4.0          52590.0           725.0  12.60   \n",
       "\n",
       "   med_inc_county  \n",
       "0         35254.0  \n",
       "1         35254.0  \n",
       "2         40492.0  \n",
       "3         40492.0  \n",
       "4         40492.0  "
      ]
     },
     "execution_count": 182,
     "metadata": {},
     "output_type": "execute_result"
    }
   ],
   "source": [
    "df.head()"
   ]
  },
  {
   "cell_type": "code",
   "execution_count": 183,
   "metadata": {},
   "outputs": [
    {
     "name": "stdout",
     "output_type": "stream",
     "text": [
      "<class 'pandas.core.frame.DataFrame'>\n",
      "RangeIndex: 84090 entries, 0 to 84089\n",
      "Data columns (total 11 columns):\n",
      "more_than_50k       84090 non-null int64\n",
      "purpose             84090 non-null object\n",
      "application_type    84090 non-null object\n",
      "grade               84090 non-null object\n",
      "home_ownership      84090 non-null object\n",
      "loan_amnt           84090 non-null float64\n",
      "emp_length          84090 non-null float64\n",
      "tot_hi_cred_lim     84090 non-null float64\n",
      "fico_range_low      84090 non-null float64\n",
      "dti                 84090 non-null float64\n",
      "med_inc_county      84090 non-null float64\n",
      "dtypes: float64(6), int64(1), object(4)\n",
      "memory usage: 7.1+ MB\n"
     ]
    }
   ],
   "source": [
    "df.info()"
   ]
  },
  {
   "cell_type": "code",
   "execution_count": 184,
   "metadata": {
    "scrolled": false
   },
   "outputs": [
    {
     "name": "stdout",
     "output_type": "stream",
     "text": [
      "Target Variable\n",
      "more_than_50k\n",
      "0    21373\n",
      "1    62717\n",
      "Name: more_than_50k, dtype: int64\n"
     ]
    },
    {
     "data": {
      "image/png": "[encoded data removed]",
      "text/plain": [
       "<Figure size 720x360 with 1 Axes>"
      ]
     },
     "metadata": {},
     "output_type": "display_data"
    }
   ],
   "source": [
    "print('Target Variable')\n",
    "print(df.groupby(['more_than_50k']).more_than_50k.count())\n",
    "\n",
    "# Target Variable Countplot\n",
    "sns.set_style('darkgrid')\n",
    "plt.figure(figsize = (10,5))\n",
    "sns.countplot(df['more_than_50k'])\n",
    "plt.title('Less than \\$50k vs More than \\$50k')\n",
    "plt.ylabel('Applicants')\n",
    "plt.show()"
   ]
  },
  {
   "cell_type": "markdown",
   "metadata": {},
   "source": [
    "### Baseline = 34%"
   ]
  },
  {
   "cell_type": "markdown",
   "metadata": {},
   "source": [
    "# Unprocessed data"
   ]
  },
  {
   "cell_type": "code",
   "execution_count": 8,
   "metadata": {},
   "outputs": [],
   "source": [
    "# Dirty (no categorical, no standardscaling)\n",
    "X = df.loc[:, 'loan_amnt':'med_inc_county']\n",
    "y = df['more_than_50k']"
   ]
  },
  {
   "cell_type": "markdown",
   "metadata": {},
   "source": [
    "### Using StandardScaler() to Standardize features"
   ]
  },
  {
   "cell_type": "code",
   "execution_count": 185,
   "metadata": {},
   "outputs": [],
   "source": [
    "scale = StandardScaler()\n",
    "df[['loan_amnt','emp_length','tot_hi_cred_lim',\n",
    "     'fico_range_low','dti', 'med_inc_county']] = scale.fit_transform(df[['loan_amnt','emp_length','tot_hi_cred_lim',\n",
    "                         'fico_range_low','dti','med_inc_county']])"
   ]
  },
  {
   "cell_type": "code",
   "execution_count": 186,
   "metadata": {
    "scrolled": true
   },
   "outputs": [
    {
     "data": {
      "text/html": [
       "<div>\n",
       "<style scoped>\n",
       "    .dataframe tbody tr th:only-of-type {\n",
       "        vertical-align: middle;\n",
       "    }\n",
       "\n",
       "    .dataframe tbody tr th {\n",
       "        vertical-align: top;\n",
       "    }\n",
       "\n",
       "    .dataframe thead th {\n",
       "        text-align: right;\n",
       "    }\n",
       "</style>\n",
       "<table border=\"1\" class=\"dataframe\">\n",
       "  <thead>\n",
       "    <tr style=\"text-align: right;\">\n",
       "      <th></th>\n",
       "      <th>more_than_50k</th>\n",
       "      <th>purpose</th>\n",
       "      <th>application_type</th>\n",
       "      <th>grade</th>\n",
       "      <th>home_ownership</th>\n",
       "      <th>loan_amnt</th>\n",
       "      <th>emp_length</th>\n",
       "      <th>tot_hi_cred_lim</th>\n",
       "      <th>fico_range_low</th>\n",
       "      <th>dti</th>\n",
       "      <th>med_inc_county</th>\n",
       "    </tr>\n",
       "  </thead>\n",
       "  <tbody>\n",
       "    <tr>\n",
       "      <th>0</th>\n",
       "      <td>1</td>\n",
       "      <td>debt_consolidation</td>\n",
       "      <td>Joint App</td>\n",
       "      <td>B</td>\n",
       "      <td>MORTGAGE</td>\n",
       "      <td>1.747736</td>\n",
       "      <td>1.165466</td>\n",
       "      <td>0.081957</td>\n",
       "      <td>-0.192733</td>\n",
       "      <td>-0.857260</td>\n",
       "      <td>-1.453094</td>\n",
       "    </tr>\n",
       "    <tr>\n",
       "      <th>1</th>\n",
       "      <td>1</td>\n",
       "      <td>debt_consolidation</td>\n",
       "      <td>Individual</td>\n",
       "      <td>A</td>\n",
       "      <td>OWN</td>\n",
       "      <td>1.167005</td>\n",
       "      <td>-1.423624</td>\n",
       "      <td>-0.643157</td>\n",
       "      <td>-0.627188</td>\n",
       "      <td>-0.513762</td>\n",
       "      <td>-1.453094</td>\n",
       "    </tr>\n",
       "    <tr>\n",
       "      <th>2</th>\n",
       "      <td>0</td>\n",
       "      <td>credit_card</td>\n",
       "      <td>Joint App</td>\n",
       "      <td>A</td>\n",
       "      <td>OWN</td>\n",
       "      <td>-0.768764</td>\n",
       "      <td>0.647648</td>\n",
       "      <td>-0.715181</td>\n",
       "      <td>0.386540</td>\n",
       "      <td>1.586004</td>\n",
       "      <td>-1.134076</td>\n",
       "    </tr>\n",
       "    <tr>\n",
       "      <th>3</th>\n",
       "      <td>1</td>\n",
       "      <td>debt_consolidation</td>\n",
       "      <td>Individual</td>\n",
       "      <td>C</td>\n",
       "      <td>MORTGAGE</td>\n",
       "      <td>-0.478399</td>\n",
       "      <td>1.165466</td>\n",
       "      <td>-0.396839</td>\n",
       "      <td>1.545087</td>\n",
       "      <td>1.215729</td>\n",
       "      <td>-1.134076</td>\n",
       "    </tr>\n",
       "    <tr>\n",
       "      <th>4</th>\n",
       "      <td>0</td>\n",
       "      <td>credit_card</td>\n",
       "      <td>Individual</td>\n",
       "      <td>A</td>\n",
       "      <td>OWN</td>\n",
       "      <td>-0.671976</td>\n",
       "      <td>-0.387988</td>\n",
       "      <td>-0.852751</td>\n",
       "      <td>0.531359</td>\n",
       "      <td>-0.679047</td>\n",
       "      <td>-1.134076</td>\n",
       "    </tr>\n",
       "  </tbody>\n",
       "</table>\n",
       "</div>"
      ],
      "text/plain": [
       "   more_than_50k             purpose application_type grade home_ownership  \\\n",
       "0              1  debt_consolidation        Joint App     B       MORTGAGE   \n",
       "1              1  debt_consolidation       Individual     A            OWN   \n",
       "2              0         credit_card        Joint App     A            OWN   \n",
       "3              1  debt_consolidation       Individual     C       MORTGAGE   \n",
       "4              0         credit_card       Individual     A            OWN   \n",
       "\n",
       "   loan_amnt  emp_length  tot_hi_cred_lim  fico_range_low       dti  \\\n",
       "0   1.747736    1.165466         0.081957       -0.192733 -0.857260   \n",
       "1   1.167005   -1.423624        -0.643157       -0.627188 -0.513762   \n",
       "2  -0.768764    0.647648        -0.715181        0.386540  1.586004   \n",
       "3  -0.478399    1.165466        -0.396839        1.545087  1.215729   \n",
       "4  -0.671976   -0.387988        -0.852751        0.531359 -0.679047   \n",
       "\n",
       "   med_inc_county  \n",
       "0       -1.453094  \n",
       "1       -1.453094  \n",
       "2       -1.134076  \n",
       "3       -1.134076  \n",
       "4       -1.134076  "
      ]
     },
     "execution_count": 186,
     "metadata": {},
     "output_type": "execute_result"
    }
   ],
   "source": [
    "df.head()"
   ]
  },
  {
   "cell_type": "markdown",
   "metadata": {},
   "source": [
    "### One-Hot Encoding Categorical Columns "
   ]
  },
  {
   "cell_type": "code",
   "execution_count": 187,
   "metadata": {},
   "outputs": [],
   "source": [
    "df = pd.get_dummies(df, drop_first=True)"
   ]
  },
  {
   "cell_type": "code",
   "execution_count": 188,
   "metadata": {
    "scrolled": true
   },
   "outputs": [
    {
     "data": {
      "text/html": [
       "<div>\n",
       "<style scoped>\n",
       "    .dataframe tbody tr th:only-of-type {\n",
       "        vertical-align: middle;\n",
       "    }\n",
       "\n",
       "    .dataframe tbody tr th {\n",
       "        vertical-align: top;\n",
       "    }\n",
       "\n",
       "    .dataframe thead th {\n",
       "        text-align: right;\n",
       "    }\n",
       "</style>\n",
       "<table border=\"1\" class=\"dataframe\">\n",
       "  <thead>\n",
       "    <tr style=\"text-align: right;\">\n",
       "      <th></th>\n",
       "      <th>more_than_50k</th>\n",
       "      <th>loan_amnt</th>\n",
       "      <th>emp_length</th>\n",
       "      <th>tot_hi_cred_lim</th>\n",
       "      <th>fico_range_low</th>\n",
       "      <th>dti</th>\n",
       "      <th>med_inc_county</th>\n",
       "      <th>purpose_credit_card</th>\n",
       "      <th>purpose_debt_consolidation</th>\n",
       "      <th>purpose_home_improvement</th>\n",
       "      <th>...</th>\n",
       "      <th>application_type_Joint App</th>\n",
       "      <th>grade_B</th>\n",
       "      <th>grade_C</th>\n",
       "      <th>grade_D</th>\n",
       "      <th>grade_E</th>\n",
       "      <th>grade_F</th>\n",
       "      <th>grade_G</th>\n",
       "      <th>home_ownership_MORTGAGE</th>\n",
       "      <th>home_ownership_OWN</th>\n",
       "      <th>home_ownership_RENT</th>\n",
       "    </tr>\n",
       "  </thead>\n",
       "  <tbody>\n",
       "    <tr>\n",
       "      <th>0</th>\n",
       "      <td>1</td>\n",
       "      <td>1.747736</td>\n",
       "      <td>1.165466</td>\n",
       "      <td>0.081957</td>\n",
       "      <td>-0.192733</td>\n",
       "      <td>-0.857260</td>\n",
       "      <td>-1.453094</td>\n",
       "      <td>0</td>\n",
       "      <td>1</td>\n",
       "      <td>0</td>\n",
       "      <td>...</td>\n",
       "      <td>1</td>\n",
       "      <td>1</td>\n",
       "      <td>0</td>\n",
       "      <td>0</td>\n",
       "      <td>0</td>\n",
       "      <td>0</td>\n",
       "      <td>0</td>\n",
       "      <td>1</td>\n",
       "      <td>0</td>\n",
       "      <td>0</td>\n",
       "    </tr>\n",
       "    <tr>\n",
       "      <th>1</th>\n",
       "      <td>1</td>\n",
       "      <td>1.167005</td>\n",
       "      <td>-1.423624</td>\n",
       "      <td>-0.643157</td>\n",
       "      <td>-0.627188</td>\n",
       "      <td>-0.513762</td>\n",
       "      <td>-1.453094</td>\n",
       "      <td>0</td>\n",
       "      <td>1</td>\n",
       "      <td>0</td>\n",
       "      <td>...</td>\n",
       "      <td>0</td>\n",
       "      <td>0</td>\n",
       "      <td>0</td>\n",
       "      <td>0</td>\n",
       "      <td>0</td>\n",
       "      <td>0</td>\n",
       "      <td>0</td>\n",
       "      <td>0</td>\n",
       "      <td>1</td>\n",
       "      <td>0</td>\n",
       "    </tr>\n",
       "    <tr>\n",
       "      <th>2</th>\n",
       "      <td>0</td>\n",
       "      <td>-0.768764</td>\n",
       "      <td>0.647648</td>\n",
       "      <td>-0.715181</td>\n",
       "      <td>0.386540</td>\n",
       "      <td>1.586004</td>\n",
       "      <td>-1.134076</td>\n",
       "      <td>1</td>\n",
       "      <td>0</td>\n",
       "      <td>0</td>\n",
       "      <td>...</td>\n",
       "      <td>1</td>\n",
       "      <td>0</td>\n",
       "      <td>0</td>\n",
       "      <td>0</td>\n",
       "      <td>0</td>\n",
       "      <td>0</td>\n",
       "      <td>0</td>\n",
       "      <td>0</td>\n",
       "      <td>1</td>\n",
       "      <td>0</td>\n",
       "    </tr>\n",
       "    <tr>\n",
       "      <th>3</th>\n",
       "      <td>1</td>\n",
       "      <td>-0.478399</td>\n",
       "      <td>1.165466</td>\n",
       "      <td>-0.396839</td>\n",
       "      <td>1.545087</td>\n",
       "      <td>1.215729</td>\n",
       "      <td>-1.134076</td>\n",
       "      <td>0</td>\n",
       "      <td>1</td>\n",
       "      <td>0</td>\n",
       "      <td>...</td>\n",
       "      <td>0</td>\n",
       "      <td>0</td>\n",
       "      <td>1</td>\n",
       "      <td>0</td>\n",
       "      <td>0</td>\n",
       "      <td>0</td>\n",
       "      <td>0</td>\n",
       "      <td>1</td>\n",
       "      <td>0</td>\n",
       "      <td>0</td>\n",
       "    </tr>\n",
       "    <tr>\n",
       "      <th>4</th>\n",
       "      <td>0</td>\n",
       "      <td>-0.671976</td>\n",
       "      <td>-0.387988</td>\n",
       "      <td>-0.852751</td>\n",
       "      <td>0.531359</td>\n",
       "      <td>-0.679047</td>\n",
       "      <td>-1.134076</td>\n",
       "      <td>1</td>\n",
       "      <td>0</td>\n",
       "      <td>0</td>\n",
       "      <td>...</td>\n",
       "      <td>0</td>\n",
       "      <td>0</td>\n",
       "      <td>0</td>\n",
       "      <td>0</td>\n",
       "      <td>0</td>\n",
       "      <td>0</td>\n",
       "      <td>0</td>\n",
       "      <td>0</td>\n",
       "      <td>1</td>\n",
       "      <td>0</td>\n",
       "    </tr>\n",
       "  </tbody>\n",
       "</table>\n",
       "<p>5 rows × 28 columns</p>\n",
       "</div>"
      ],
      "text/plain": [
       "   more_than_50k  loan_amnt  emp_length  tot_hi_cred_lim  fico_range_low  \\\n",
       "0              1   1.747736    1.165466         0.081957       -0.192733   \n",
       "1              1   1.167005   -1.423624        -0.643157       -0.627188   \n",
       "2              0  -0.768764    0.647648        -0.715181        0.386540   \n",
       "3              1  -0.478399    1.165466        -0.396839        1.545087   \n",
       "4              0  -0.671976   -0.387988        -0.852751        0.531359   \n",
       "\n",
       "        dti  med_inc_county  purpose_credit_card  purpose_debt_consolidation  \\\n",
       "0 -0.857260       -1.453094                    0                           1   \n",
       "1 -0.513762       -1.453094                    0                           1   \n",
       "2  1.586004       -1.134076                    1                           0   \n",
       "3  1.215729       -1.134076                    0                           1   \n",
       "4 -0.679047       -1.134076                    1                           0   \n",
       "\n",
       "   purpose_home_improvement  ...  application_type_Joint App  grade_B  \\\n",
       "0                         0  ...                           1        1   \n",
       "1                         0  ...                           0        0   \n",
       "2                         0  ...                           1        0   \n",
       "3                         0  ...                           0        0   \n",
       "4                         0  ...                           0        0   \n",
       "\n",
       "   grade_C  grade_D  grade_E  grade_F  grade_G  home_ownership_MORTGAGE  \\\n",
       "0        0        0        0        0        0                        1   \n",
       "1        0        0        0        0        0                        0   \n",
       "2        0        0        0        0        0                        0   \n",
       "3        1        0        0        0        0                        1   \n",
       "4        0        0        0        0        0                        0   \n",
       "\n",
       "   home_ownership_OWN  home_ownership_RENT  \n",
       "0                   0                    0  \n",
       "1                   1                    0  \n",
       "2                   1                    0  \n",
       "3                   0                    0  \n",
       "4                   1                    0  \n",
       "\n",
       "[5 rows x 28 columns]"
      ]
     },
     "execution_count": 188,
     "metadata": {},
     "output_type": "execute_result"
    }
   ],
   "source": [
    "df.head()"
   ]
  },
  {
   "cell_type": "markdown",
   "metadata": {},
   "source": [
    "# Processed Data"
   ]
  },
  {
   "cell_type": "code",
   "execution_count": 189,
   "metadata": {},
   "outputs": [],
   "source": [
    "X = df.loc[:, 'loan_amnt':'home_ownership_RENT']\n",
    "y = df['more_than_50k']"
   ]
  },
  {
   "cell_type": "markdown",
   "metadata": {},
   "source": [
    "### Set TrainTestSplit"
   ]
  },
  {
   "cell_type": "code",
   "execution_count": 190,
   "metadata": {},
   "outputs": [],
   "source": [
    "# Split into training and test set\n",
    "X_train, X_test, y_train, y_test = train_test_split(X, y, test_size = 0.2, random_state=1)"
   ]
  },
  {
   "cell_type": "markdown",
   "metadata": {},
   "source": [
    "## Baseline DummyClassifier"
   ]
  },
  {
   "cell_type": "code",
   "execution_count": 282,
   "metadata": {},
   "outputs": [
    {
     "data": {
      "text/plain": [
       "DummyClassifier(constant=None, random_state=1, strategy='uniform')"
      ]
     },
     "execution_count": 282,
     "metadata": {},
     "output_type": "execute_result"
    }
   ],
   "source": [
    "model_dummy = DummyClassifier(strategy=\"uniform\", random_state=1)\n",
    "model_dummy.fit(X_train, y_train)"
   ]
  },
  {
   "cell_type": "code",
   "execution_count": 285,
   "metadata": {},
   "outputs": [
    {
     "name": "stdout",
     "output_type": "stream",
     "text": [
      "Baseline Accuracy Score: 50.09%\n",
      "Baseline Precision Score: 74.45%\n"
     ]
    }
   ],
   "source": [
    "y_predict_dummy = model_dummy.predict(X_test)\n",
    "print(f'Baseline Accuracy Score: {accuracy_score(y_test, y_predict_dummy) * 100:.2f}%')\n",
    "print(f'Baseline Precision Score: {precision_score(y_test, y_predict_dummy) * 100:.2f}%')"
   ]
  },
  {
   "cell_type": "code",
   "execution_count": 286,
   "metadata": {
    "scrolled": true
   },
   "outputs": [
    {
     "data": {
      "text/html": [
       "<div>\n",
       "<style scoped>\n",
       "    .dataframe tbody tr th:only-of-type {\n",
       "        vertical-align: middle;\n",
       "    }\n",
       "\n",
       "    .dataframe tbody tr th {\n",
       "        vertical-align: top;\n",
       "    }\n",
       "\n",
       "    .dataframe thead th {\n",
       "        text-align: right;\n",
       "    }\n",
       "</style>\n",
       "<table border=\"1\" class=\"dataframe\">\n",
       "  <thead>\n",
       "    <tr style=\"text-align: right;\">\n",
       "      <th></th>\n",
       "      <th>Predicted Not 50k</th>\n",
       "      <th>Predicted 50k</th>\n",
       "    </tr>\n",
       "  </thead>\n",
       "  <tbody>\n",
       "    <tr>\n",
       "      <th>True Not 50k</th>\n",
       "      <td>1376</td>\n",
       "      <td>2950</td>\n",
       "    </tr>\n",
       "    <tr>\n",
       "      <th>True 50k</th>\n",
       "      <td>296</td>\n",
       "      <td>12196</td>\n",
       "    </tr>\n",
       "  </tbody>\n",
       "</table>\n",
       "</div>"
      ],
      "text/plain": [
       "              Predicted Not 50k  Predicted 50k\n",
       "True Not 50k               1376           2950\n",
       "True 50k                    296          12196"
      ]
     },
     "execution_count": 286,
     "metadata": {},
     "output_type": "execute_result"
    }
   ],
   "source": [
    "pd.DataFrame(\n",
    "    confusion_matrix(y_test, y_predict_random_forest),\n",
    "    columns=['Predicted Not 50k', 'Predicted 50k'],\n",
    "    index=['True Not 50k', 'True 50k']\n",
    ")"
   ]
  },
  {
   "cell_type": "markdown",
   "metadata": {},
   "source": [
    "DummyClassifier"
   ]
  },
  {
   "cell_type": "code",
   "execution_count": 304,
   "metadata": {},
   "outputs": [
    {
     "name": "stdout",
     "output_type": "stream",
     "text": [
      "Confusion Matrix, without normalization\n",
      "[[2185 2141]\n",
      " [6253 6239]]\n"
     ]
    },
    {
     "data": {
      "image/png": "[encoded data removed]",
      "text/plain": [
       "<Figure size 864x576 with 2 Axes>"
      ]
     },
     "metadata": {},
     "output_type": "display_data"
    }
   ],
   "source": [
    "classes = ['> 50K','< 50K']\n",
    "cm_dummy = confusion_matrix(y_test, y_predict_dummy)\n",
    "helper_functions.plot_confusion_matrix(cm_dummy, classes, title='Dummy Confusion matrix', cmap=plt.cm.YlGnBu)"
   ]
  },
  {
   "cell_type": "code",
   "execution_count": 288,
   "metadata": {},
   "outputs": [
    {
     "name": "stdout",
     "output_type": "stream",
     "text": [
      "              precision    recall  f1-score   support\n",
      "\n",
      "           0       0.26      0.51      0.34      4326\n",
      "           1       0.74      0.50      0.60     12492\n",
      "\n",
      "    accuracy                           0.50     16818\n",
      "   macro avg       0.50      0.50      0.47     16818\n",
      "weighted avg       0.62      0.50      0.53     16818\n",
      "\n"
     ]
    }
   ],
   "source": [
    "print(classification_report(y_test, y_predict_dummy))"
   ]
  },
  {
   "cell_type": "code",
   "execution_count": 289,
   "metadata": {},
   "outputs": [
    {
     "data": {
      "text/html": [
       "<div>\n",
       "<style scoped>\n",
       "    .dataframe tbody tr th:only-of-type {\n",
       "        vertical-align: middle;\n",
       "    }\n",
       "\n",
       "    .dataframe tbody tr th {\n",
       "        vertical-align: top;\n",
       "    }\n",
       "\n",
       "    .dataframe thead th {\n",
       "        text-align: right;\n",
       "    }\n",
       "</style>\n",
       "<table border=\"1\" class=\"dataframe\">\n",
       "  <thead>\n",
       "    <tr style=\"text-align: right;\">\n",
       "      <th></th>\n",
       "      <th>f1-score</th>\n",
       "      <th>precision</th>\n",
       "      <th>recall</th>\n",
       "      <th>support</th>\n",
       "    </tr>\n",
       "  </thead>\n",
       "  <tbody>\n",
       "    <tr>\n",
       "      <th>0</th>\n",
       "      <td>0.342369</td>\n",
       "      <td>0.258948</td>\n",
       "      <td>0.505086</td>\n",
       "      <td>4326.000000</td>\n",
       "    </tr>\n",
       "    <tr>\n",
       "      <th>1</th>\n",
       "      <td>0.597834</td>\n",
       "      <td>0.744511</td>\n",
       "      <td>0.499440</td>\n",
       "      <td>12492.000000</td>\n",
       "    </tr>\n",
       "    <tr>\n",
       "      <th>accuracy</th>\n",
       "      <td>0.500892</td>\n",
       "      <td>0.500892</td>\n",
       "      <td>0.500892</td>\n",
       "      <td>0.500892</td>\n",
       "    </tr>\n",
       "    <tr>\n",
       "      <th>macro avg</th>\n",
       "      <td>0.470102</td>\n",
       "      <td>0.501729</td>\n",
       "      <td>0.502263</td>\n",
       "      <td>16818.000000</td>\n",
       "    </tr>\n",
       "    <tr>\n",
       "      <th>weighted avg</th>\n",
       "      <td>0.532123</td>\n",
       "      <td>0.619612</td>\n",
       "      <td>0.500892</td>\n",
       "      <td>16818.000000</td>\n",
       "    </tr>\n",
       "  </tbody>\n",
       "</table>\n",
       "</div>"
      ],
      "text/plain": [
       "              f1-score  precision    recall       support\n",
       "0             0.342369   0.258948  0.505086   4326.000000\n",
       "1             0.597834   0.744511  0.499440  12492.000000\n",
       "accuracy      0.500892   0.500892  0.500892      0.500892\n",
       "macro avg     0.470102   0.501729  0.502263  16818.000000\n",
       "weighted avg  0.532123   0.619612  0.500892  16818.000000"
      ]
     },
     "execution_count": 289,
     "metadata": {},
     "output_type": "execute_result"
    }
   ],
   "source": [
    "cr_dummy = classification_report(y_test, y_predict_dummy, output_dict=True)\n",
    "df_cr_dummy = pd.DataFrame(cr_dummy).transpose()\n",
    "df_cr_dummy"
   ]
  },
  {
   "cell_type": "markdown",
   "metadata": {},
   "source": [
    "## Decision Trees"
   ]
  },
  {
   "cell_type": "code",
   "execution_count": 16,
   "metadata": {},
   "outputs": [
    {
     "data": {
      "text/plain": [
       "DecisionTreeClassifier(class_weight=None, criterion='gini', max_depth=9,\n",
       "                       max_features=None, max_leaf_nodes=None,\n",
       "                       min_impurity_decrease=0.0, min_impurity_split=None,\n",
       "                       min_samples_leaf=1, min_samples_split=2,\n",
       "                       min_weight_fraction_leaf=0.0, presort=False,\n",
       "                       random_state=None, splitter='best')"
      ]
     },
     "execution_count": 16,
     "metadata": {},
     "output_type": "execute_result"
    }
   ],
   "source": [
    "model_decision_tree = DecisionTreeClassifier(max_depth = 9)\n",
    "model_decision_tree.fit(X_train,y_train)"
   ]
  },
  {
   "cell_type": "code",
   "execution_count": 17,
   "metadata": {},
   "outputs": [
    {
     "data": {
      "text/plain": [
       "0.828695445356166"
      ]
     },
     "execution_count": 17,
     "metadata": {},
     "output_type": "execute_result"
    }
   ],
   "source": [
    "y_predict_decision_tree = model_decision_tree.predict(X_test)\n",
    "accuracy_score(y_test, y_predict_decision_tree)"
   ]
  },
  {
   "cell_type": "code",
   "execution_count": 18,
   "metadata": {
    "scrolled": false
   },
   "outputs": [
    {
     "data": {
      "text/html": [
       "<div>\n",
       "<style scoped>\n",
       "    .dataframe tbody tr th:only-of-type {\n",
       "        vertical-align: middle;\n",
       "    }\n",
       "\n",
       "    .dataframe tbody tr th {\n",
       "        vertical-align: top;\n",
       "    }\n",
       "\n",
       "    .dataframe thead th {\n",
       "        text-align: right;\n",
       "    }\n",
       "</style>\n",
       "<table border=\"1\" class=\"dataframe\">\n",
       "  <thead>\n",
       "    <tr style=\"text-align: right;\">\n",
       "      <th></th>\n",
       "      <th>Predicted Not 50k</th>\n",
       "      <th>Predicted 50k</th>\n",
       "    </tr>\n",
       "  </thead>\n",
       "  <tbody>\n",
       "    <tr>\n",
       "      <th>True Not 50k</th>\n",
       "      <td>2151</td>\n",
       "      <td>2175</td>\n",
       "    </tr>\n",
       "    <tr>\n",
       "      <th>True 50k</th>\n",
       "      <td>706</td>\n",
       "      <td>11786</td>\n",
       "    </tr>\n",
       "  </tbody>\n",
       "</table>\n",
       "</div>"
      ],
      "text/plain": [
       "              Predicted Not 50k  Predicted 50k\n",
       "True Not 50k               2151           2175\n",
       "True 50k                    706          11786"
      ]
     },
     "execution_count": 18,
     "metadata": {},
     "output_type": "execute_result"
    }
   ],
   "source": [
    "pd.DataFrame(\n",
    "    confusion_matrix(y_test, y_predict_decision_tree),\n",
    "    columns=['Predicted Not 50k', 'Predicted 50k'],\n",
    "    index=['True Not 50k', 'True 50k']\n",
    ")"
   ]
  },
  {
   "cell_type": "markdown",
   "metadata": {},
   "source": [
    "Decision Tree"
   ]
  },
  {
   "cell_type": "code",
   "execution_count": 297,
   "metadata": {},
   "outputs": [
    {
     "name": "stdout",
     "output_type": "stream",
     "text": [
      "Confusion Matrix, without normalization\n",
      "[[ 2151  2175]\n",
      " [  706 11786]]\n"
     ]
    },
    {
     "data": {
      "image/png": "[encoded data removed]",
      "text/plain": [
       "<Figure size 864x576 with 2 Axes>"
      ]
     },
     "metadata": {},
     "output_type": "display_data"
    }
   ],
   "source": [
    "classes = ['> 50K','< 50K']\n",
    "cm_decision_tree = confusion_matrix(y_test, y_predict_decision_tree)\n",
    "helper_functions.plot_confusion_matrix(cm_decision_tree, classes, title='Decision Tree Confusion matrix', cmap=plt.cm.Greens)"
   ]
  },
  {
   "cell_type": "code",
   "execution_count": 19,
   "metadata": {
    "scrolled": true
   },
   "outputs": [
    {
     "name": "stdout",
     "output_type": "stream",
     "text": [
      "              precision    recall  f1-score   support\n",
      "\n",
      "           0       0.75      0.50      0.60      4326\n",
      "           1       0.84      0.94      0.89     12492\n",
      "\n",
      "    accuracy                           0.83     16818\n",
      "   macro avg       0.80      0.72      0.75     16818\n",
      "weighted avg       0.82      0.83      0.82     16818\n",
      "\n"
     ]
    }
   ],
   "source": [
    "print(classification_report(y_test, y_predict_decision_tree))"
   ]
  },
  {
   "cell_type": "code",
   "execution_count": 29,
   "metadata": {
    "scrolled": false
   },
   "outputs": [
    {
     "data": {
      "image/png": "[encoded data removed]",
      "text/plain": [
       "<Figure size 576x576 with 1 Axes>"
      ]
     },
     "metadata": {},
     "output_type": "display_data"
    }
   ],
   "source": [
    "helper_functions.plot_feature_importances(model_decision_tree, X_train)"
   ]
  },
  {
   "cell_type": "markdown",
   "metadata": {},
   "source": [
    "### Tuning Tree"
   ]
  },
  {
   "cell_type": "code",
   "execution_count": 32,
   "metadata": {},
   "outputs": [
    {
     "name": "stdout",
     "output_type": "stream",
     "text": [
      "[0.8248424398374126, 0.8281841188291157, 0.829658769672839, 0.829789721909087, 0.8262933214821538, 0.8238079040370283]\n"
     ]
    },
    {
     "data": {
      "image/png": "[encoded data removed]",
      "text/plain": [
       "<Figure size 720x720 with 1 Axes>"
      ]
     },
     "metadata": {},
     "output_type": "display_data"
    }
   ],
   "source": [
    "score = cross_val_score(model_decision_tree, X, y, cv = 15)\n",
    "score.mean()\n",
    "depth_range = range(6,12)\n",
    "val = []\n",
    "for depth in depth_range:\n",
    "    model_decision_tree = DecisionTreeClassifier(max_depth = depth)\n",
    "    depth_score = cross_val_score(model_decision_tree, X, y, cv = 15)\n",
    "    val.append(depth_score.mean())\n",
    "print(val)\n",
    "plt.figure(figsize = (10,10))\n",
    "plt.plot(depth_range, val)\n",
    "plt.xlabel('range of depth')\n",
    "plt.ylabel('cross validated values')\n",
    "plt.show()"
   ]
  },
  {
   "cell_type": "markdown",
   "metadata": {},
   "source": [
    "## Random Forests"
   ]
  },
  {
   "cell_type": "code",
   "execution_count": 162,
   "metadata": {},
   "outputs": [
    {
     "data": {
      "text/plain": [
       "RandomForestClassifier(bootstrap=True, class_weight=None, criterion='gini',\n",
       "                       max_depth=5, max_features='auto', max_leaf_nodes=None,\n",
       "                       min_impurity_decrease=0.0, min_impurity_split=None,\n",
       "                       min_samples_leaf=1, min_samples_split=2,\n",
       "                       min_weight_fraction_leaf=0.0, n_estimators=100,\n",
       "                       n_jobs=None, oob_score=False, random_state=None,\n",
       "                       verbose=0, warm_start=False)"
      ]
     },
     "execution_count": 162,
     "metadata": {},
     "output_type": "execute_result"
    }
   ],
   "source": [
    "model_random_forest = RandomForestClassifier(n_estimators=100, max_depth= 5)\n",
    "model_random_forest.fit(X_train, y_train)"
   ]
  },
  {
   "cell_type": "code",
   "execution_count": 163,
   "metadata": {
    "scrolled": false
   },
   "outputs": [
    {
     "name": "stdout",
     "output_type": "stream",
     "text": [
      "Random Forest Train Data: 80.72%\n",
      "Random Forest Test  Data: 80.70%\n"
     ]
    }
   ],
   "source": [
    "print(f'Random Forest Train Data: {model_random_forest.score(X_train, y_train) * 100:.2f}%')\n",
    "print(f'Random Forest Test  Data: {model_random_forest.score(X_test, y_test) * 100:.2f}%')"
   ]
  },
  {
   "cell_type": "code",
   "execution_count": 164,
   "metadata": {},
   "outputs": [
    {
     "name": "stdout",
     "output_type": "stream",
     "text": [
      "Baseline Accuracy Score: 80.70%\n",
      "Baseline Precision Score: 80.52%\n"
     ]
    }
   ],
   "source": [
    "y_predict_random_forest = model_random_forest.predict(X_test)\n",
    "print(f'Baseline Accuracy Score: {accuracy_score(y_test, y_predict_random_forest) * 100:.2f}%')\n",
    "print(f'Baseline Precision Score: {precision_score(y_test, y_predict_random_forest) * 100:.2f}%')"
   ]
  },
  {
   "cell_type": "code",
   "execution_count": 167,
   "metadata": {},
   "outputs": [
    {
     "data": {
      "text/plain": [
       "RandomForestClassifier(bootstrap=True, class_weight=None, criterion='gini',\n",
       "                       max_depth=5, max_features='auto', max_leaf_nodes=None,\n",
       "                       min_impurity_decrease=0.0, min_impurity_split=None,\n",
       "                       min_samples_leaf=0.05, min_samples_split=0.1,\n",
       "                       min_weight_fraction_leaf=0.0, n_estimators=200,\n",
       "                       n_jobs=None, oob_score=False, random_state=None,\n",
       "                       verbose=0, warm_start=False)"
      ]
     },
     "execution_count": 167,
     "metadata": {},
     "output_type": "execute_result"
    }
   ],
   "source": [
    "model_random_forest_tuned = RandomForestClassifier(criterion='gini', max_depth=5, \n",
    "                                                  min_samples_leaf=0.05, min_samples_split=0.1, \n",
    "                                                  n_estimators=200)\n",
    "model_random_forest_tuned.fit(X_train, y_train)"
   ]
  },
  {
   "cell_type": "code",
   "execution_count": 168,
   "metadata": {},
   "outputs": [
    {
     "name": "stdout",
     "output_type": "stream",
     "text": [
      "Tuned Accuracy Score: 74.80%\n",
      "Tuned Precision Score: 74.67%\n"
     ]
    }
   ],
   "source": [
    "y_predict_random_forest_tuned = model_random_forest_tuned.predict(X_test)\n",
    "print(f'Tuned Accuracy Score: {accuracy_score(y_test, y_predict_random_forest_tuned) * 100:.2f}%')\n",
    "print(f'Tuned Precision Score: {precision_score(y_test, y_predict_random_forest_tuned) * 100:.2f}%')"
   ]
  },
  {
   "cell_type": "code",
   "execution_count": 68,
   "metadata": {},
   "outputs": [
    {
     "data": {
      "text/plain": [
       "0.8009870376977049"
      ]
     },
     "execution_count": 68,
     "metadata": {},
     "output_type": "execute_result"
    }
   ],
   "source": [
    "y_predict_random_forest = model_random_forest.predict(X_test)\n",
    "accuracy_score(y_test, y_predict_random_forest)"
   ]
  },
  {
   "cell_type": "code",
   "execution_count": 69,
   "metadata": {},
   "outputs": [
    {
     "data": {
      "text/html": [
       "<div>\n",
       "<style scoped>\n",
       "    .dataframe tbody tr th:only-of-type {\n",
       "        vertical-align: middle;\n",
       "    }\n",
       "\n",
       "    .dataframe tbody tr th {\n",
       "        vertical-align: top;\n",
       "    }\n",
       "\n",
       "    .dataframe thead th {\n",
       "        text-align: right;\n",
       "    }\n",
       "</style>\n",
       "<table border=\"1\" class=\"dataframe\">\n",
       "  <thead>\n",
       "    <tr style=\"text-align: right;\">\n",
       "      <th></th>\n",
       "      <th>Predicted Not 50k</th>\n",
       "      <th>Predicted 50k</th>\n",
       "    </tr>\n",
       "  </thead>\n",
       "  <tbody>\n",
       "    <tr>\n",
       "      <th>True Not 50k</th>\n",
       "      <td>1236</td>\n",
       "      <td>3090</td>\n",
       "    </tr>\n",
       "    <tr>\n",
       "      <th>True 50k</th>\n",
       "      <td>257</td>\n",
       "      <td>12235</td>\n",
       "    </tr>\n",
       "  </tbody>\n",
       "</table>\n",
       "</div>"
      ],
      "text/plain": [
       "              Predicted Not 50k  Predicted 50k\n",
       "True Not 50k               1236           3090\n",
       "True 50k                    257          12235"
      ]
     },
     "execution_count": 69,
     "metadata": {},
     "output_type": "execute_result"
    }
   ],
   "source": [
    "pd.DataFrame(\n",
    "    confusion_matrix(y_test, y_predict_random_forest),\n",
    "    columns=['Predicted Not 50k', 'Predicted 50k'],\n",
    "    index=['True Not 50k', 'True 50k']\n",
    ")"
   ]
  },
  {
   "cell_type": "markdown",
   "metadata": {},
   "source": [
    "Random Forest"
   ]
  },
  {
   "cell_type": "code",
   "execution_count": 298,
   "metadata": {},
   "outputs": [
    {
     "name": "stdout",
     "output_type": "stream",
     "text": [
      "Confusion Matrix, without normalization\n",
      "[[ 1376  2950]\n",
      " [  296 12196]]\n"
     ]
    },
    {
     "data": {
      "image/png": "[encoded data removed]",
      "text/plain": [
       "<Figure size 864x576 with 2 Axes>"
      ]
     },
     "metadata": {},
     "output_type": "display_data"
    }
   ],
   "source": [
    "cm_random_forest = confusion_matrix(y_test, y_predict_random_forest)\n",
    "helper_functions.plot_confusion_matrix(cm_random_forest, classes, title='Random Forest Confusion matrix', cmap=plt.cm.Greens)"
   ]
  },
  {
   "cell_type": "code",
   "execution_count": 199,
   "metadata": {},
   "outputs": [
    {
     "name": "stdout",
     "output_type": "stream",
     "text": [
      "              precision    recall  f1-score   support\n",
      "\n",
      "           0       0.82      0.32      0.46      4326\n",
      "           1       0.81      0.98      0.88     12492\n",
      "\n",
      "    accuracy                           0.81     16818\n",
      "   macro avg       0.81      0.65      0.67     16818\n",
      "weighted avg       0.81      0.81      0.77     16818\n",
      "\n"
     ]
    }
   ],
   "source": [
    "print(classification_report(y_test, y_predict_random_forest))"
   ]
  },
  {
   "cell_type": "code",
   "execution_count": 203,
   "metadata": {},
   "outputs": [
    {
     "data": {
      "text/html": [
       "<div>\n",
       "<style scoped>\n",
       "    .dataframe tbody tr th:only-of-type {\n",
       "        vertical-align: middle;\n",
       "    }\n",
       "\n",
       "    .dataframe tbody tr th {\n",
       "        vertical-align: top;\n",
       "    }\n",
       "\n",
       "    .dataframe thead th {\n",
       "        text-align: right;\n",
       "    }\n",
       "</style>\n",
       "<table border=\"1\" class=\"dataframe\">\n",
       "  <thead>\n",
       "    <tr style=\"text-align: right;\">\n",
       "      <th></th>\n",
       "      <th>f1-score</th>\n",
       "      <th>precision</th>\n",
       "      <th>recall</th>\n",
       "      <th>support</th>\n",
       "    </tr>\n",
       "  </thead>\n",
       "  <tbody>\n",
       "    <tr>\n",
       "      <th>0</th>\n",
       "      <td>0.458820</td>\n",
       "      <td>0.822967</td>\n",
       "      <td>0.318077</td>\n",
       "      <td>4326.000000</td>\n",
       "    </tr>\n",
       "    <tr>\n",
       "      <th>1</th>\n",
       "      <td>0.882553</td>\n",
       "      <td>0.805229</td>\n",
       "      <td>0.976305</td>\n",
       "      <td>12492.000000</td>\n",
       "    </tr>\n",
       "    <tr>\n",
       "      <th>accuracy</th>\n",
       "      <td>0.806993</td>\n",
       "      <td>0.806993</td>\n",
       "      <td>0.806993</td>\n",
       "      <td>0.806993</td>\n",
       "    </tr>\n",
       "    <tr>\n",
       "      <th>macro avg</th>\n",
       "      <td>0.670686</td>\n",
       "      <td>0.814098</td>\n",
       "      <td>0.647191</td>\n",
       "      <td>16818.000000</td>\n",
       "    </tr>\n",
       "    <tr>\n",
       "      <th>weighted avg</th>\n",
       "      <td>0.773558</td>\n",
       "      <td>0.809792</td>\n",
       "      <td>0.806993</td>\n",
       "      <td>16818.000000</td>\n",
       "    </tr>\n",
       "  </tbody>\n",
       "</table>\n",
       "</div>"
      ],
      "text/plain": [
       "              f1-score  precision    recall       support\n",
       "0             0.458820   0.822967  0.318077   4326.000000\n",
       "1             0.882553   0.805229  0.976305  12492.000000\n",
       "accuracy      0.806993   0.806993  0.806993      0.806993\n",
       "macro avg     0.670686   0.814098  0.647191  16818.000000\n",
       "weighted avg  0.773558   0.809792  0.806993  16818.000000"
      ]
     },
     "execution_count": 203,
     "metadata": {},
     "output_type": "execute_result"
    }
   ],
   "source": [
    "cr_random_forest = classification_report(y_test, y_predict_random_forest, output_dict=True)\n",
    "df_cr_random_forest = pd.DataFrame(cr_random_forest).transpose()\n",
    "df_cr_random_forest"
   ]
  },
  {
   "cell_type": "code",
   "execution_count": 63,
   "metadata": {},
   "outputs": [
    {
     "data": {
      "image/png": "[encoded data removed]",
      "text/plain": [
       "<Figure size 576x576 with 1 Axes>"
      ]
     },
     "metadata": {},
     "output_type": "display_data"
    }
   ],
   "source": [
    "helper_functions.plot_feature_importances(model_random_forest, X_train)"
   ]
  },
  {
   "cell_type": "markdown",
   "metadata": {},
   "source": [
    "## Tuning Random Forest"
   ]
  },
  {
   "cell_type": "code",
   "execution_count": 158,
   "metadata": {},
   "outputs": [],
   "source": [
    "param_grid_random_forest = {\n",
    "    'n_estimators': [100, 150],\n",
    "    'criterion': ['entropy', 'gini'],\n",
    "    'max_depth': [4, 5, 6],\n",
    "    'min_samples_leaf':[0.05 ,0.1, 0.2],\n",
    "    'min_samples_split':[0.05 ,0.1, 0.2]\n",
    "}"
   ]
  },
  {
   "cell_type": "code",
   "execution_count": 159,
   "metadata": {},
   "outputs": [
    {
     "name": "stdout",
     "output_type": "stream",
     "text": [
      "Grid Search found the following optimal parameters: \n",
      "criterion: 'gini'\n",
      "max_depth: 5\n",
      "min_samples_leaf: 0.05\n",
      "min_samples_split: 0.1\n",
      "n_estimators: 100\n",
      "\n",
      "Training Accuracy: 74.71%\n",
      "Validation accuracy: 74.31%\n",
      "Training Precision: 74.7%\n",
      "Validation Precision: 74.3%\n",
      "Wall time: 2min 10s\n"
     ]
    }
   ],
   "source": [
    "%%time\n",
    "grid_model_random_forest = GridSearchCV(estimator  = model_random_forest, \n",
    "                                        param_grid = param_grid_random_forest, \n",
    "                                        scoring    = 'precision', \n",
    "                                        cv         = 5, \n",
    "                                        n_jobs     = -1)\n",
    "\n",
    "grid_model_random_forest.fit(X_train, y_train)\n",
    "\n",
    "best_parameters = grid_model_random_forest.best_params_\n",
    "\n",
    "print('Grid Search found the following optimal parameters: ')\n",
    "for param_name in sorted(best_parameters.keys()):\n",
    "    print('%s: %r' % (param_name, best_parameters[param_name]))\n",
    "\n",
    "y_predict_random_forest = grid_model_random_forest.predict(X_train)\n",
    "test_preds = grid_model_random_forest.predict(X_test)\n",
    "\n",
    "training_accuracy = accuracy_score(y_train, y_predict_random_forest)\n",
    "test_accuracy = accuracy_score(y_test, test_preds)\n",
    "\n",
    "training_precision = precision_score(y_train, y_predict_random_forest)\n",
    "test_precision = precision_score(y_test, test_preds)\n",
    "\n",
    "\n",
    "print('')\n",
    "print('Training Accuracy: {:.4}%'.format(training_accuracy * 100))\n",
    "print('Validation accuracy: {:.4}%'.format(test_accuracy * 100))\n",
    "print('Training Precision: {:.4}%'.format(training_precision * 100))\n",
    "print('Validation Precision: {:.4}%'.format(test_precision * 100))"
   ]
  },
  {
   "cell_type": "markdown",
   "metadata": {},
   "source": [
    "## Logistic Regression"
   ]
  },
  {
   "cell_type": "code",
   "execution_count": 76,
   "metadata": {},
   "outputs": [
    {
     "data": {
      "text/plain": [
       "LogisticRegression(C=1.0, class_weight=None, dual=False, fit_intercept=True,\n",
       "                   intercept_scaling=1, l1_ratio=None, max_iter=100,\n",
       "                   multi_class='warn', n_jobs=None, penalty='l2',\n",
       "                   random_state=None, solver='liblinear', tol=0.0001, verbose=0,\n",
       "                   warm_start=False)"
      ]
     },
     "execution_count": 76,
     "metadata": {},
     "output_type": "execute_result"
    }
   ],
   "source": [
    "model_logistic_reg = LogisticRegression(solver='liblinear')\n",
    "model_logistic_reg.fit(X_train, y_train)"
   ]
  },
  {
   "cell_type": "code",
   "execution_count": 77,
   "metadata": {},
   "outputs": [
    {
     "data": {
      "text/plain": [
       "0.8112141752883815"
      ]
     },
     "execution_count": 77,
     "metadata": {},
     "output_type": "execute_result"
    }
   ],
   "source": [
    "y_predict_logistic_reg = model_logistic_reg.predict(X_test)\n",
    "accuracy_score(y_test, y_predict_logistic_reg)"
   ]
  },
  {
   "cell_type": "code",
   "execution_count": 78,
   "metadata": {},
   "outputs": [
    {
     "data": {
      "text/html": [
       "<div>\n",
       "<style scoped>\n",
       "    .dataframe tbody tr th:only-of-type {\n",
       "        vertical-align: middle;\n",
       "    }\n",
       "\n",
       "    .dataframe tbody tr th {\n",
       "        vertical-align: top;\n",
       "    }\n",
       "\n",
       "    .dataframe thead th {\n",
       "        text-align: right;\n",
       "    }\n",
       "</style>\n",
       "<table border=\"1\" class=\"dataframe\">\n",
       "  <thead>\n",
       "    <tr style=\"text-align: right;\">\n",
       "      <th></th>\n",
       "      <th>Predicted Not 50k</th>\n",
       "      <th>Predicted 50k</th>\n",
       "    </tr>\n",
       "  </thead>\n",
       "  <tbody>\n",
       "    <tr>\n",
       "      <th>True Not 50k</th>\n",
       "      <td>2155</td>\n",
       "      <td>2171</td>\n",
       "    </tr>\n",
       "    <tr>\n",
       "      <th>True 50k</th>\n",
       "      <td>1004</td>\n",
       "      <td>11488</td>\n",
       "    </tr>\n",
       "  </tbody>\n",
       "</table>\n",
       "</div>"
      ],
      "text/plain": [
       "              Predicted Not 50k  Predicted 50k\n",
       "True Not 50k               2155           2171\n",
       "True 50k                   1004          11488"
      ]
     },
     "execution_count": 78,
     "metadata": {},
     "output_type": "execute_result"
    }
   ],
   "source": [
    "pd.DataFrame(\n",
    "    confusion_matrix(y_test, y_predict_logistic_reg),\n",
    "    columns=['Predicted Not 50k', 'Predicted 50k'],\n",
    "    index=['True Not 50k', 'True 50k']\n",
    ")"
   ]
  },
  {
   "cell_type": "markdown",
   "metadata": {},
   "source": [
    "Logistic Regression"
   ]
  },
  {
   "cell_type": "code",
   "execution_count": 300,
   "metadata": {},
   "outputs": [
    {
     "name": "stdout",
     "output_type": "stream",
     "text": [
      "Confusion Matrix, without normalization\n",
      "[[ 2155  2171]\n",
      " [ 1004 11488]]\n"
     ]
    },
    {
     "data": {
      "image/png": "[encoded data removed]",
      "text/plain": [
       "<Figure size 864x576 with 2 Axes>"
      ]
     },
     "metadata": {},
     "output_type": "display_data"
    }
   ],
   "source": [
    "classes = ['> 50K','< 50K']\n",
    "cm_logistic_reg = confusion_matrix(y_test, y_predict_logistic_reg)\n",
    "helper_functions.plot_confusion_matrix(cm_logistic_reg, classes, title='Logistic Regression Confusion matrix', cmap=plt.cm.Reds)"
   ]
  },
  {
   "cell_type": "code",
   "execution_count": 80,
   "metadata": {},
   "outputs": [
    {
     "name": "stdout",
     "output_type": "stream",
     "text": [
      "              precision    recall  f1-score   support\n",
      "\n",
      "           0       0.68      0.50      0.58      4326\n",
      "           1       0.84      0.92      0.88     12492\n",
      "\n",
      "    accuracy                           0.81     16818\n",
      "   macro avg       0.76      0.71      0.73     16818\n",
      "weighted avg       0.80      0.81      0.80     16818\n",
      "\n"
     ]
    }
   ],
   "source": [
    "print(classification_report(y_test, y_predict_logistic_reg))"
   ]
  },
  {
   "cell_type": "markdown",
   "metadata": {},
   "source": [
    "# Add TUNING!!!!!!!!!"
   ]
  },
  {
   "cell_type": "markdown",
   "metadata": {},
   "source": [
    "## XGBoost"
   ]
  },
  {
   "cell_type": "code",
   "execution_count": 83,
   "metadata": {},
   "outputs": [
    {
     "data": {
      "text/plain": [
       "XGBClassifier(base_score=0.5, booster='gbtree', colsample_bylevel=1,\n",
       "              colsample_bynode=1, colsample_bytree=1, gamma=0,\n",
       "              learning_rate=0.1, max_delta_step=0, max_depth=3,\n",
       "              min_child_weight=1, missing=None, n_estimators=100, n_jobs=1,\n",
       "              nthread=None, objective='binary:logistic', random_state=0,\n",
       "              reg_alpha=0, reg_lambda=1, scale_pos_weight=1, seed=None,\n",
       "              silent=None, subsample=1, verbosity=1)"
      ]
     },
     "execution_count": 83,
     "metadata": {},
     "output_type": "execute_result"
    }
   ],
   "source": [
    "model_xgboost = XGBClassifier()\n",
    "model_xgboost.fit(X_train, y_train)"
   ]
  },
  {
   "cell_type": "code",
   "execution_count": 125,
   "metadata": {},
   "outputs": [
    {
     "name": "stdout",
     "output_type": "stream",
     "text": [
      "Baseline Accuracy Score: 84.34%\n",
      "Baseline Precision Score: 85.47%\n"
     ]
    }
   ],
   "source": [
    "y_predict_xgboost = model_xgboost.predict(X_test)\n",
    "print(f'Baseline Accuracy Score: {accuracy_score(y_test, y_predict_xgboost) * 100:.2f}%')\n",
    "print(f'Baseline Precision Score: {precision_score(y_test, y_predict_xgboost) * 100:.2f}%')"
   ]
  },
  {
   "cell_type": "code",
   "execution_count": 118,
   "metadata": {},
   "outputs": [
    {
     "data": {
      "text/plain": [
       "XGBClassifier(base_score=0.5, booster='gbtree', colsample_bylevel=1,\n",
       "              colsample_bynode=1, colsample_bytree=1, gamma=0,\n",
       "              learning_rate=0.2, max_delta_step=0, max_depth=10,\n",
       "              min_child_weight=2, missing=None, n_estimators=100, n_jobs=-1,\n",
       "              nthread=None, objective='binary:logistic', random_state=0,\n",
       "              reg_alpha=0, reg_lambda=1, scale_pos_weight=1, seed=None,\n",
       "              silent=None, subsample=0.7, verbosity=1)"
      ]
     },
     "execution_count": 118,
     "metadata": {},
     "output_type": "execute_result"
    }
   ],
   "source": [
    "model_xgboost_tuned = XGBClassifier(learning_rate=0.2, max_depth=10, \n",
    "                              min_child_weight=2, n_estimators=100, \n",
    "                              n_jobs=-1, subsample=0.7)\n",
    "model_xgboost_tuned.fit(X_train, y_train)"
   ]
  },
  {
   "cell_type": "code",
   "execution_count": 126,
   "metadata": {},
   "outputs": [
    {
     "name": "stdout",
     "output_type": "stream",
     "text": [
      "Tuned Accuracy Score: 83.38%\n",
      "Tuned Precision Score: 86.14%\n"
     ]
    }
   ],
   "source": [
    "y_predict_xgboost_tuned = model_xgboost_tuned.predict(X_test)\n",
    "print(f'Tuned Accuracy Score: {accuracy_score(y_test, y_predict_xgboost_tuned) * 100:.2f}%')\n",
    "print(f'Tuned Precision Score: {precision_score(y_test, y_predict_xgboost_tuned) * 100:.2f}%')"
   ]
  },
  {
   "cell_type": "code",
   "execution_count": 121,
   "metadata": {},
   "outputs": [
    {
     "data": {
      "text/html": [
       "<div>\n",
       "<style scoped>\n",
       "    .dataframe tbody tr th:only-of-type {\n",
       "        vertical-align: middle;\n",
       "    }\n",
       "\n",
       "    .dataframe tbody tr th {\n",
       "        vertical-align: top;\n",
       "    }\n",
       "\n",
       "    .dataframe thead th {\n",
       "        text-align: right;\n",
       "    }\n",
       "</style>\n",
       "<table border=\"1\" class=\"dataframe\">\n",
       "  <thead>\n",
       "    <tr style=\"text-align: right;\">\n",
       "      <th></th>\n",
       "      <th>Predicted Not 50k</th>\n",
       "      <th>Predicted 50k</th>\n",
       "    </tr>\n",
       "  </thead>\n",
       "  <tbody>\n",
       "    <tr>\n",
       "      <th>True Not 50k</th>\n",
       "      <td>2467</td>\n",
       "      <td>1859</td>\n",
       "    </tr>\n",
       "    <tr>\n",
       "      <th>True 50k</th>\n",
       "      <td>936</td>\n",
       "      <td>11556</td>\n",
       "    </tr>\n",
       "  </tbody>\n",
       "</table>\n",
       "</div>"
      ],
      "text/plain": [
       "              Predicted Not 50k  Predicted 50k\n",
       "True Not 50k               2467           1859\n",
       "True 50k                    936          11556"
      ]
     },
     "execution_count": 121,
     "metadata": {},
     "output_type": "execute_result"
    }
   ],
   "source": [
    "pd.DataFrame(\n",
    "    confusion_matrix(y_test, y_predict_xgboost_tuned),\n",
    "    columns=['Predicted Not 50k', 'Predicted 50k'],\n",
    "    index=['True Not 50k', 'True 50k']\n",
    ")"
   ]
  },
  {
   "cell_type": "markdown",
   "metadata": {},
   "source": [
    "XGBoost"
   ]
  },
  {
   "cell_type": "code",
   "execution_count": 301,
   "metadata": {},
   "outputs": [
    {
     "name": "stdout",
     "output_type": "stream",
     "text": [
      "Confusion Matrix, without normalization\n",
      "[[ 2467  1859]\n",
      " [  936 11556]]\n"
     ]
    },
    {
     "data": {
      "image/png": "[encoded data removed]",
      "text/plain": [
       "<Figure size 864x576 with 2 Axes>"
      ]
     },
     "metadata": {},
     "output_type": "display_data"
    }
   ],
   "source": [
    "classes = ['> 50K','< 50K']\n",
    "cm_xgboost = confusion_matrix(y_test, y_predict_xgboost_tuned)\n",
    "helper_functions.plot_confusion_matrix(cm_xgboost, classes, title='XGBoost Confusion matrix', cmap=plt.cm.Oranges)"
   ]
  },
  {
   "cell_type": "code",
   "execution_count": 123,
   "metadata": {},
   "outputs": [
    {
     "name": "stdout",
     "output_type": "stream",
     "text": [
      "              precision    recall  f1-score   support\n",
      "\n",
      "           0       0.72      0.57      0.64      4326\n",
      "           1       0.86      0.93      0.89     12492\n",
      "\n",
      "    accuracy                           0.83     16818\n",
      "   macro avg       0.79      0.75      0.77     16818\n",
      "weighted avg       0.83      0.83      0.83     16818\n",
      "\n"
     ]
    }
   ],
   "source": [
    "print(classification_report(y_test, y_predict_xgboost_tuned))"
   ]
  },
  {
   "cell_type": "markdown",
   "metadata": {},
   "source": [
    "## Tuning XGBoost Gridsearch"
   ]
  },
  {
   "cell_type": "code",
   "execution_count": 108,
   "metadata": {},
   "outputs": [],
   "source": [
    "param_grid = {\n",
    "    'max_depth': [1, 10],\n",
    "    'learning_rate': [0.1, 0.2],\n",
    "    'n_jobs': [-1],\n",
    "    'min_child_weight': [1, 2],\n",
    "    'subsample': [0.5, 0.7],\n",
    "    'n_estimators': [100, 150],\n",
    "}"
   ]
  },
  {
   "cell_type": "code",
   "execution_count": 109,
   "metadata": {},
   "outputs": [
    {
     "name": "stdout",
     "output_type": "stream",
     "text": [
      "Grid Search found the following optimal parameters: \n",
      "learning_rate: 0.2\n",
      "max_depth: 10\n",
      "min_child_weight: 2\n",
      "n_estimators: 100\n",
      "n_jobs: -1\n",
      "subsample: 0.7\n",
      "\n",
      "Training Accuracy: 92.6%\n",
      "Validation accuracy: 83.38%\n",
      "Training Precision: 92.58%\n",
      "Validation Precision: 86.14%\n",
      "Wall time: 3min 22s\n"
     ]
    }
   ],
   "source": [
    "%%time\n",
    "grid_model_xgboost = GridSearchCV(estimator  = model_xgboost, \n",
    "                                  param_grid = param_grid, \n",
    "                                  scoring    = 'precision', \n",
    "                                  cv         = 5, \n",
    "                                  n_jobs     = -1)\n",
    "\n",
    "grid_model_xgboost.fit(X_train, y_train)\n",
    "\n",
    "best_parameters = grid_model_xgboost.best_params_\n",
    "\n",
    "print('Grid Search found the following optimal parameters: ')\n",
    "for param_name in sorted(best_parameters.keys()):\n",
    "    print('%s: %r' % (param_name, best_parameters[param_name]))\n",
    "\n",
    "y_predict_xgboost = grid_model_xgboost.predict(X_train)\n",
    "test_preds = grid_model_xgboost.predict(X_test)\n",
    "\n",
    "training_accuracy = accuracy_score(y_train, y_predict_xgboost)\n",
    "test_accuracy = accuracy_score(y_test, test_preds)\n",
    "\n",
    "training_precision = precision_score(y_train, y_predict_xgboost)\n",
    "test_precision = precision_score(y_test, test_preds)\n",
    "\n",
    "\n",
    "print('')\n",
    "print('Training Accuracy: {:.4}%'.format(training_accuracy * 100))\n",
    "print('Validation accuracy: {:.4}%'.format(test_accuracy * 100))\n",
    "print('Training Precision: {:.4}%'.format(training_precision * 100))\n",
    "print('Validation Precision: {:.4}%'.format(test_precision * 100))"
   ]
  },
  {
   "cell_type": "markdown",
   "metadata": {},
   "source": [
    "## Adaboost"
   ]
  },
  {
   "cell_type": "code",
   "execution_count": 127,
   "metadata": {},
   "outputs": [
    {
     "data": {
      "text/plain": [
       "AdaBoostClassifier(algorithm='SAMME.R', base_estimator=None, learning_rate=1.0,\n",
       "                   n_estimators=50, random_state=None)"
      ]
     },
     "execution_count": 127,
     "metadata": {},
     "output_type": "execute_result"
    }
   ],
   "source": [
    "model_adaboost = AdaBoostClassifier()\n",
    "model_adaboost.fit(X_train, y_train)"
   ]
  },
  {
   "cell_type": "code",
   "execution_count": 128,
   "metadata": {},
   "outputs": [
    {
     "name": "stdout",
     "output_type": "stream",
     "text": [
      "Baseline Accuracy Score: 82.25%\n",
      "Baseline Precision Score: 85.54%\n"
     ]
    }
   ],
   "source": [
    "y_predict_adaboost = model_adaboost.predict(X_test)\n",
    "print(f'Baseline Accuracy Score: {accuracy_score(y_test, y_predict_adaboost) * 100:.2f}%')\n",
    "print(f'Baseline Precision Score: {precision_score(y_test, y_predict_adaboost) * 100:.2f}%')"
   ]
  },
  {
   "cell_type": "code",
   "execution_count": 131,
   "metadata": {},
   "outputs": [
    {
     "data": {
      "text/plain": [
       "AdaBoostClassifier(algorithm='SAMME.R', base_estimator=None, learning_rate=1.0,\n",
       "                   n_estimators=70, random_state=None)"
      ]
     },
     "execution_count": 131,
     "metadata": {},
     "output_type": "execute_result"
    }
   ],
   "source": [
    "model_adaboost_tuned = AdaBoostClassifier(learning_rate = 1.0, n_estimators = 70)\n",
    "model_adaboost_tuned.fit(X_train, y_train)"
   ]
  },
  {
   "cell_type": "code",
   "execution_count": 132,
   "metadata": {},
   "outputs": [
    {
     "name": "stdout",
     "output_type": "stream",
     "text": [
      "Tuned Accuracy Score: 82.43%\n",
      "Tuned Precision Score: 85.56%\n"
     ]
    }
   ],
   "source": [
    "y_predict_adaboost_tuned = model_adaboost_tuned.predict(X_test)\n",
    "print(f'Tuned Accuracy Score: {accuracy_score(y_test, y_predict_adaboost_tuned) * 100:.2f}%')\n",
    "print(f'Tuned Precision Score: {precision_score(y_test, y_predict_adaboost_tuned) * 100:.2f}%')"
   ]
  },
  {
   "cell_type": "code",
   "execution_count": 133,
   "metadata": {},
   "outputs": [
    {
     "data": {
      "text/html": [
       "<div>\n",
       "<style scoped>\n",
       "    .dataframe tbody tr th:only-of-type {\n",
       "        vertical-align: middle;\n",
       "    }\n",
       "\n",
       "    .dataframe tbody tr th {\n",
       "        vertical-align: top;\n",
       "    }\n",
       "\n",
       "    .dataframe thead th {\n",
       "        text-align: right;\n",
       "    }\n",
       "</style>\n",
       "<table border=\"1\" class=\"dataframe\">\n",
       "  <thead>\n",
       "    <tr style=\"text-align: right;\">\n",
       "      <th></th>\n",
       "      <th>Predicted Not 50k</th>\n",
       "      <th>Predicted 50k</th>\n",
       "    </tr>\n",
       "  </thead>\n",
       "  <tbody>\n",
       "    <tr>\n",
       "      <th>True Not 50k</th>\n",
       "      <td>2389</td>\n",
       "      <td>1937</td>\n",
       "    </tr>\n",
       "    <tr>\n",
       "      <th>True 50k</th>\n",
       "      <td>1018</td>\n",
       "      <td>11474</td>\n",
       "    </tr>\n",
       "  </tbody>\n",
       "</table>\n",
       "</div>"
      ],
      "text/plain": [
       "              Predicted Not 50k  Predicted 50k\n",
       "True Not 50k               2389           1937\n",
       "True 50k                   1018          11474"
      ]
     },
     "execution_count": 133,
     "metadata": {},
     "output_type": "execute_result"
    }
   ],
   "source": [
    "pd.DataFrame(\n",
    "    confusion_matrix(y_test, y_predict_adaboost_tuned),\n",
    "    columns=['Predicted Not 50k', 'Predicted 50k'],\n",
    "    index=['True Not 50k', 'True 50k']\n",
    ")"
   ]
  },
  {
   "cell_type": "code",
   "execution_count": 302,
   "metadata": {},
   "outputs": [
    {
     "name": "stdout",
     "output_type": "stream",
     "text": [
      "Confusion Matrix, without normalization\n",
      "[[ 2389  1937]\n",
      " [ 1018 11474]]\n"
     ]
    },
    {
     "data": {
      "image/png": "[encoded data removed]",
      "text/plain": [
       "<Figure size 864x576 with 2 Axes>"
      ]
     },
     "metadata": {},
     "output_type": "display_data"
    }
   ],
   "source": [
    "classes = ['> 50K','< 50K']\n",
    "cm_adaboost = confusion_matrix(y_test, y_predict_adaboost_tuned)\n",
    "helper_functions.plot_confusion_matrix(cm_adaboost, classes, title='Adaboost Confusion matrix', cmap=plt.cm.PuRd)"
   ]
  },
  {
   "cell_type": "code",
   "execution_count": 152,
   "metadata": {},
   "outputs": [
    {
     "name": "stdout",
     "output_type": "stream",
     "text": [
      "              precision    recall  f1-score   support\n",
      "\n",
      "           0       0.70      0.55      0.62      4326\n",
      "           1       0.86      0.92      0.89     12492\n",
      "\n",
      "    accuracy                           0.82     16818\n",
      "   macro avg       0.78      0.74      0.75     16818\n",
      "weighted avg       0.82      0.82      0.82     16818\n",
      "\n"
     ]
    }
   ],
   "source": [
    "print(classification_report(y_test, y_predict_adaboost_tuned))"
   ]
  },
  {
   "cell_type": "markdown",
   "metadata": {},
   "source": [
    "## Tuning Adaboost Gridsearch"
   ]
  },
  {
   "cell_type": "code",
   "execution_count": 129,
   "metadata": {},
   "outputs": [],
   "source": [
    "param_grid_adaboost = {\n",
    "    'n_estimators': [30, 50, 70],\n",
    "    'learning_rate': [1.0, 0.5, 0.1],\n",
    "}"
   ]
  },
  {
   "cell_type": "code",
   "execution_count": 130,
   "metadata": {},
   "outputs": [
    {
     "name": "stdout",
     "output_type": "stream",
     "text": [
      "Grid Search found the following optimal parameters: \n",
      "learning_rate: 1.0\n",
      "n_estimators: 70\n",
      "\n",
      "Training Accuracy: 82.86%\n",
      "Validation accuracy: 82.43%\n",
      "Training Precision: 85.89%\n",
      "Validation Precision: 85.56%\n",
      "Wall time: 23.4 s\n"
     ]
    }
   ],
   "source": [
    "%%time\n",
    "grid_model_adaboost = GridSearchCV(estimator  = model_adaboost, \n",
    "                                   param_grid = param_grid_adaboost, \n",
    "                                   scoring    = 'precision', \n",
    "                                   cv         = 5, \n",
    "                                   n_jobs     = -1)\n",
    "\n",
    "grid_model_adaboost.fit(X_train, y_train)\n",
    "\n",
    "best_parameters = grid_model_adaboost.best_params_\n",
    "\n",
    "print('Grid Search found the following optimal parameters: ')\n",
    "for param_name in sorted(best_parameters.keys()):\n",
    "    print('%s: %r' % (param_name, best_parameters[param_name]))\n",
    "\n",
    "y_predict_adaboost = grid_model_adaboost.predict(X_train)\n",
    "test_preds = grid_model_adaboost.predict(X_test)\n",
    "\n",
    "training_accuracy = accuracy_score(y_train, y_predict_adaboost)\n",
    "test_accuracy = accuracy_score(y_test, test_preds)\n",
    "\n",
    "training_precision = precision_score(y_train, y_predict_adaboost)\n",
    "test_precision = precision_score(y_test, test_preds)\n",
    "\n",
    "\n",
    "print('')\n",
    "print('Training Accuracy: {:.4}%'.format(training_accuracy * 100))\n",
    "print('Validation accuracy: {:.4}%'.format(test_accuracy * 100))\n",
    "print('Training Precision: {:.4}%'.format(training_precision * 100))\n",
    "print('Validation Precision: {:.4}%'.format(test_precision * 100))"
   ]
  },
  {
   "cell_type": "markdown",
   "metadata": {},
   "source": [
    "## Gradient Boost"
   ]
  },
  {
   "cell_type": "code",
   "execution_count": 141,
   "metadata": {},
   "outputs": [
    {
     "data": {
      "text/plain": [
       "GradientBoostingClassifier(criterion='friedman_mse', init=None,\n",
       "                           learning_rate=0.1, loss='deviance', max_depth=3,\n",
       "                           max_features=None, max_leaf_nodes=None,\n",
       "                           min_impurity_decrease=0.0, min_impurity_split=None,\n",
       "                           min_samples_leaf=1, min_samples_split=2,\n",
       "                           min_weight_fraction_leaf=0.0, n_estimators=100,\n",
       "                           n_iter_no_change=None, presort='auto',\n",
       "                           random_state=None, subsample=1.0, tol=0.0001,\n",
       "                           validation_fraction=0.1, verbose=0,\n",
       "                           warm_start=False)"
      ]
     },
     "execution_count": 141,
     "metadata": {},
     "output_type": "execute_result"
    }
   ],
   "source": [
    "model_gradient_boost = GradientBoostingClassifier()\n",
    "model_gradient_boost.fit(X_train, y_train)"
   ]
  },
  {
   "cell_type": "code",
   "execution_count": 142,
   "metadata": {},
   "outputs": [
    {
     "name": "stdout",
     "output_type": "stream",
     "text": [
      "Baseline Accuracy Score: 84.25%\n",
      "Baseline Precision Score: 85.45%\n"
     ]
    }
   ],
   "source": [
    "y_predict_gradient_boost = model_gradient_boost.predict(X_test)\n",
    "print(f'Baseline Accuracy Score: {accuracy_score(y_test, y_predict_gradient_boost) * 100:.2f}%')\n",
    "print(f'Baseline Precision Score: {precision_score(y_test, y_predict_gradient_boost) * 100:.2f}%')"
   ]
  },
  {
   "cell_type": "code",
   "execution_count": 147,
   "metadata": {},
   "outputs": [
    {
     "data": {
      "text/plain": [
       "GradientBoostingClassifier(criterion='friedman_mse', init=None,\n",
       "                           learning_rate=0.5, loss='deviance', max_depth=5,\n",
       "                           max_features=None, max_leaf_nodes=None,\n",
       "                           min_impurity_decrease=0.0, min_impurity_split=None,\n",
       "                           min_samples_leaf=1, min_samples_split=2,\n",
       "                           min_weight_fraction_leaf=0.0, n_estimators=30,\n",
       "                           n_iter_no_change=None, presort='auto',\n",
       "                           random_state=None, subsample=1.0, tol=0.0001,\n",
       "                           validation_fraction=0.1, verbose=0,\n",
       "                           warm_start=False)"
      ]
     },
     "execution_count": 147,
     "metadata": {},
     "output_type": "execute_result"
    }
   ],
   "source": [
    "model_gradient_boost_tuned = GradientBoostingClassifier(learning_rate = 0.5, max_depth = 5, n_estimators = 30)\n",
    "model_gradient_boost_tuned.fit(X_train, y_train)"
   ]
  },
  {
   "cell_type": "code",
   "execution_count": 148,
   "metadata": {},
   "outputs": [
    {
     "name": "stdout",
     "output_type": "stream",
     "text": [
      "Tuned Accuracy Score: 84.18%\n",
      "Tuned Precision Score: 86.39%\n"
     ]
    }
   ],
   "source": [
    "y_predict_gradient_boost_tuned = model_gradient_boost_tuned.predict(X_test)\n",
    "print(f'Tuned Accuracy Score: {accuracy_score(y_test, y_predict_gradient_boost_tuned) * 100:.2f}%')\n",
    "print(f'Tuned Precision Score: {precision_score(y_test, y_predict_gradient_boost_tuned) * 100:.2f}%')"
   ]
  },
  {
   "cell_type": "code",
   "execution_count": 149,
   "metadata": {},
   "outputs": [
    {
     "data": {
      "text/html": [
       "<div>\n",
       "<style scoped>\n",
       "    .dataframe tbody tr th:only-of-type {\n",
       "        vertical-align: middle;\n",
       "    }\n",
       "\n",
       "    .dataframe tbody tr th {\n",
       "        vertical-align: top;\n",
       "    }\n",
       "\n",
       "    .dataframe thead th {\n",
       "        text-align: right;\n",
       "    }\n",
       "</style>\n",
       "<table border=\"1\" class=\"dataframe\">\n",
       "  <thead>\n",
       "    <tr style=\"text-align: right;\">\n",
       "      <th></th>\n",
       "      <th>Predicted Not 50k</th>\n",
       "      <th>Predicted 50k</th>\n",
       "    </tr>\n",
       "  </thead>\n",
       "  <tbody>\n",
       "    <tr>\n",
       "      <th>True Not 50k</th>\n",
       "      <td>2488</td>\n",
       "      <td>1838</td>\n",
       "    </tr>\n",
       "    <tr>\n",
       "      <th>True 50k</th>\n",
       "      <td>823</td>\n",
       "      <td>11669</td>\n",
       "    </tr>\n",
       "  </tbody>\n",
       "</table>\n",
       "</div>"
      ],
      "text/plain": [
       "              Predicted Not 50k  Predicted 50k\n",
       "True Not 50k               2488           1838\n",
       "True 50k                    823          11669"
      ]
     },
     "execution_count": 149,
     "metadata": {},
     "output_type": "execute_result"
    }
   ],
   "source": [
    "pd.DataFrame(\n",
    "    confusion_matrix(y_test, y_predict_gradient_boost_tuned),\n",
    "    columns=['Predicted Not 50k', 'Predicted 50k'],\n",
    "    index=['True Not 50k', 'True 50k']\n",
    ")"
   ]
  },
  {
   "cell_type": "markdown",
   "metadata": {},
   "source": [
    "Adaboost"
   ]
  },
  {
   "cell_type": "code",
   "execution_count": 303,
   "metadata": {},
   "outputs": [
    {
     "name": "stdout",
     "output_type": "stream",
     "text": [
      "Confusion Matrix, without normalization\n",
      "[[ 2488  1838]\n",
      " [  823 11669]]\n"
     ]
    },
    {
     "data": {
      "image/png": "[encoded data removed]",
      "text/plain": [
       "<Figure size 864x576 with 2 Axes>"
      ]
     },
     "metadata": {},
     "output_type": "display_data"
    }
   ],
   "source": [
    "classes = ['> 50K','< 50K']\n",
    "cm_gradient_boost = confusion_matrix(y_test, y_predict_gradient_boost_tuned)\n",
    "helper_functions.plot_confusion_matrix(cm_gradient_boost, classes, title='Gradient Boost Confusion matrix', cmap=plt.cm.BuGn)"
   ]
  },
  {
   "cell_type": "code",
   "execution_count": 153,
   "metadata": {},
   "outputs": [
    {
     "name": "stdout",
     "output_type": "stream",
     "text": [
      "              precision    recall  f1-score   support\n",
      "\n",
      "           0       0.75      0.58      0.65      4326\n",
      "           1       0.86      0.93      0.90     12492\n",
      "\n",
      "    accuracy                           0.84     16818\n",
      "   macro avg       0.81      0.75      0.77     16818\n",
      "weighted avg       0.83      0.84      0.83     16818\n",
      "\n"
     ]
    }
   ],
   "source": [
    "print(classification_report(y_test, y_predict_gradient_boost_tuned))"
   ]
  },
  {
   "cell_type": "markdown",
   "metadata": {},
   "source": [
    "## Tuning Gradient Boost"
   ]
  },
  {
   "cell_type": "code",
   "execution_count": 145,
   "metadata": {},
   "outputs": [],
   "source": [
    "param_grid_gradient_boost = {\n",
    "    'learning_rate': [0.1, 0.5, 1.0],\n",
    "    'n_estimators': [30, 100],\n",
    "    'max_depth': [3,5]\n",
    "}"
   ]
  },
  {
   "cell_type": "code",
   "execution_count": 146,
   "metadata": {},
   "outputs": [
    {
     "name": "stdout",
     "output_type": "stream",
     "text": [
      "Grid Search found the following optimal parameters: \n",
      "learning_rate: 0.5\n",
      "max_depth: 5\n",
      "n_estimators: 30\n",
      "\n",
      "Training Accuracy: 85.48%\n",
      "Validation accuracy: 84.17%\n",
      "Training Precision: 87.17%\n",
      "Validation Precision: 86.38%\n",
      "Wall time: 1min 18s\n"
     ]
    }
   ],
   "source": [
    "%%time\n",
    "grid_model_gradient_boost = GridSearchCV(estimator  = model_gradient_boost, \n",
    "                                         param_grid = param_grid_gradient_boost, \n",
    "                                         scoring    = 'precision', \n",
    "                                         cv         = 5, \n",
    "                                         n_jobs     = -1)\n",
    "\n",
    "grid_model_gradient_boost.fit(X_train, y_train)\n",
    "\n",
    "best_parameters = grid_model_gradient_boost.best_params_\n",
    "\n",
    "print('Grid Search found the following optimal parameters: ')\n",
    "for param_name in sorted(best_parameters.keys()):\n",
    "    print('%s: %r' % (param_name, best_parameters[param_name]))\n",
    "\n",
    "y_predict_gradient_boost = grid_model_gradient_boost.predict(X_train)\n",
    "test_preds = grid_model_gradient_boost.predict(X_test)\n",
    "\n",
    "training_accuracy = accuracy_score(y_train, y_predict_gradient_boost)\n",
    "test_accuracy = accuracy_score(y_test, test_preds)\n",
    "\n",
    "training_precision = precision_score(y_train, y_predict_gradient_boost)\n",
    "test_precision = precision_score(y_test, test_preds)\n",
    "\n",
    "\n",
    "print('')\n",
    "print('Training Accuracy: {:.4}%'.format(training_accuracy * 100))\n",
    "print('Validation accuracy: {:.4}%'.format(test_accuracy * 100))\n",
    "print('Training Precision: {:.4}%'.format(training_precision * 100))\n",
    "print('Validation Precision: {:.4}%'.format(test_precision * 100))"
   ]
  },
  {
   "cell_type": "markdown",
   "metadata": {},
   "source": [
    "## Plotting ROC-Curve with all models for comparison"
   ]
  },
  {
   "cell_type": "code",
   "execution_count": 292,
   "metadata": {},
   "outputs": [],
   "source": [
    "# Instantiate the classfiers and make a list\n",
    "classifiers = [DummyClassifier(strategy=\"uniform\", random_state=1),\n",
    "               DecisionTreeClassifier(max_depth = 9),\n",
    "               RandomForestClassifier(n_estimators=100, max_depth= 5),\n",
    "               LogisticRegression(solver='liblinear'),\n",
    "               XGBClassifier(learning_rate=0.2, max_depth=10, \n",
    "                              min_child_weight=2, n_estimators=100, \n",
    "                              n_jobs=-1, subsample=0.7),\n",
    "               AdaBoostClassifier(learning_rate = 1.0, n_estimators = 70),\n",
    "               GradientBoostingClassifier(learning_rate = 0.5, max_depth = 5, n_estimators = 30)]\n",
    "\n",
    "# Define a result table as a DataFrame\n",
    "result_table = pd.DataFrame(columns=['classifiers', 'fpr','tpr','auc'])\n",
    "\n",
    "# Train the models and record the results\n",
    "for cls in classifiers:\n",
    "    model = cls.fit(X_train, y_train)\n",
    "    yproba = model.predict_proba(X_test)[::,1]\n",
    "    \n",
    "    fpr, tpr, _ = roc_curve(y_test,  yproba)\n",
    "    auc = roc_auc_score(y_test, yproba)\n",
    "    \n",
    "    result_table = result_table.append({'classifiers':cls.__class__.__name__,\n",
    "                                        'fpr':fpr, \n",
    "                                        'tpr':tpr, \n",
    "                                        'auc':auc}, ignore_index=True)\n",
    "\n",
    "# Set name of the classifiers as index labels\n",
    "result_table.set_index('classifiers', inplace=True)"
   ]
  },
  {
   "cell_type": "code",
   "execution_count": 293,
   "metadata": {},
   "outputs": [
    {
     "data": {
      "image/png": "[encoded data removed]",
      "text/plain": [
       "<Figure size 720x720 with 1 Axes>"
      ]
     },
     "metadata": {},
     "output_type": "display_data"
    }
   ],
   "source": [
    "fig = plt.figure(figsize=(10,10))\n",
    "\n",
    "for i in result_table.index:\n",
    "    plt.plot(result_table.loc[i]['fpr'], \n",
    "             result_table.loc[i]['tpr'], \n",
    "             label=\"{}, AUC={:.3f}\".format(i, result_table.loc[i]['auc']))\n",
    "    \n",
    "plt.plot([0,1], [0,1], color='orange', linestyle='--')\n",
    "\n",
    "plt.xticks(np.arange(0.0, 1.1, step=0.1))\n",
    "plt.xlabel(\"False Positive Rate\", fontsize=15)\n",
    "\n",
    "plt.yticks(np.arange(0.0, 1.1, step=0.1))\n",
    "plt.ylabel(\"True Positive Rate\", fontsize=15)\n",
    "\n",
    "plt.title('ROC Curve Analysis', fontweight='bold', fontsize=15)\n",
    "plt.legend(prop={'size':13}, loc='lower right')\n",
    "\n",
    "plt.show()\n"
   ]
  },
  {
   "cell_type": "code",
   "execution_count": 294,
   "metadata": {},
   "outputs": [
    {
     "data": {
      "text/plain": [
       "[0.501, 0.829, 0.807, 0.811, 0.834, 0.824, 0.842]"
      ]
     },
     "execution_count": 294,
     "metadata": {},
     "output_type": "execute_result"
    }
   ],
   "source": [
    "y_predicts = [\n",
    "    y_predict_dummy, y_predict_decision_tree, y_predict_random_forest,\n",
    "    y_predict_logistic_reg, y_predict_xgboost_tuned,\n",
    "    y_predict_adaboost_tuned, y_predict_gradient_boost_tuned\n",
    "]\n",
    "\n",
    "y_predict_names = [\n",
    "    'Decision Tree', 'Random Forest',\n",
    "    'Log Reg', 'XGBoost Tuned',\n",
    "    'Adaboost Tuned', 'Gradient Boost Tuned'\n",
    "]\n",
    "\n",
    "list_of_f1s = []\n",
    "for y_predict in y_predicts:\n",
    "    cr_f_1 = classification_report(y_test, y_predict, output_dict=True)\n",
    "    df_cr_f_1 = pd.DataFrame(cr_f_1).transpose()\n",
    "    list_of_f1s.append(round(df_cr_f_1['f1-score']['accuracy'], 3))\n",
    "    \n",
    "list_of_f1s"
   ]
  },
  {
   "cell_type": "code",
   "execution_count": 296,
   "metadata": {},
   "outputs": [
    {
     "data": {
      "text/plain": [
       "Text(0.5, 1.0, 'F1 Scores Barplot')"
      ]
     },
     "execution_count": 296,
     "metadata": {},
     "output_type": "execute_result"
    },
    {
     "data": {
      "image/png": "[encoded data removed]",
      "text/plain": [
       "<Figure size 720x720 with 1 Axes>"
      ]
     },
     "metadata": {},
     "output_type": "display_data"
    }
   ],
   "source": [
    "fig = plt.figure(figsize=(10,10))\n",
    "sns.barplot(df_f1_scores['Model Name'], df_f1_scores['F1-Score'])\n",
    "plt.xticks(rotation=15)\n",
    "plt.ylabel('F1 Score')\n",
    "plt.title('F1 Scores Barplot')"
   ]
  },
  {
   "cell_type": "code",
   "execution_count": 295,
   "metadata": {},
   "outputs": [
    {
     "data": {
      "text/html": [
       "<div>\n",
       "<style scoped>\n",
       "    .dataframe tbody tr th:only-of-type {\n",
       "        vertical-align: middle;\n",
       "    }\n",
       "\n",
       "    .dataframe tbody tr th {\n",
       "        vertical-align: top;\n",
       "    }\n",
       "\n",
       "    .dataframe thead th {\n",
       "        text-align: right;\n",
       "    }\n",
       "</style>\n",
       "<table border=\"1\" class=\"dataframe\">\n",
       "  <thead>\n",
       "    <tr style=\"text-align: right;\">\n",
       "      <th></th>\n",
       "      <th>Model Name</th>\n",
       "      <th>F1-Score</th>\n",
       "    </tr>\n",
       "  </thead>\n",
       "  <tbody>\n",
       "    <tr>\n",
       "      <th>0</th>\n",
       "      <td>Gradient Boost Tuned</td>\n",
       "      <td>0.842</td>\n",
       "    </tr>\n",
       "    <tr>\n",
       "      <th>1</th>\n",
       "      <td>XGBoost Tuned</td>\n",
       "      <td>0.834</td>\n",
       "    </tr>\n",
       "    <tr>\n",
       "      <th>2</th>\n",
       "      <td>Decision Tree</td>\n",
       "      <td>0.829</td>\n",
       "    </tr>\n",
       "    <tr>\n",
       "      <th>3</th>\n",
       "      <td>Adaboost Tuned</td>\n",
       "      <td>0.824</td>\n",
       "    </tr>\n",
       "    <tr>\n",
       "      <th>4</th>\n",
       "      <td>Log Reg</td>\n",
       "      <td>0.811</td>\n",
       "    </tr>\n",
       "    <tr>\n",
       "      <th>5</th>\n",
       "      <td>Random Forest</td>\n",
       "      <td>0.807</td>\n",
       "    </tr>\n",
       "    <tr>\n",
       "      <th>6</th>\n",
       "      <td>Dummy</td>\n",
       "      <td>0.501</td>\n",
       "    </tr>\n",
       "  </tbody>\n",
       "</table>\n",
       "</div>"
      ],
      "text/plain": [
       "              Model Name  F1-Score\n",
       "0   Gradient Boost Tuned     0.842\n",
       "1          XGBoost Tuned     0.834\n",
       "2          Decision Tree     0.829\n",
       "3         Adaboost Tuned     0.824\n",
       "4                Log Reg     0.811\n",
       "5          Random Forest     0.807\n",
       "6                  Dummy     0.501"
      ]
     },
     "execution_count": 295,
     "metadata": {},
     "output_type": "execute_result"
    }
   ],
   "source": [
    "df_f1_scores = pd.read_excel('shared_assets/F1Scores.xlsx')\n",
    "df_f1_scores"
   ]
  }
 ],
 "metadata": {
  "kernelspec": {
   "display_name": "Python 3",
   "language": "python",
   "name": "python3"
  },
  "language_info": {
   "codemirror_mode": {
    "name": "ipython",
    "version": 3
   },
   "file_extension": ".py",
   "mimetype": "text/x-python",
   "name": "python",
   "nbconvert_exporter": "python",
   "pygments_lexer": "ipython3",
   "version": "3.7.3"
  }
 },
 "nbformat": 4,
 "nbformat_minor": 2
}
