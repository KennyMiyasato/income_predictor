{
 "cells": [
  {
   "cell_type": "markdown",
   "metadata": {},
   "source": [
    "# Database Insert Notebook"
   ]
  },
  {
   "cell_type": "code",
   "execution_count": 12,
   "metadata": {},
   "outputs": [],
   "source": [
    "import config\n",
    "import get_zipcodes\n",
    "import pandas as pd\n",
    "import mysql.connector\n",
    "from mysql.connector import errorcode\n",
    "from bs4 import BeautifulSoup\n",
    "import time\n",
    "import re\n",
    "import requests"
   ]
  },
  {
   "cell_type": "code",
   "execution_count": 15,
   "metadata": {},
   "outputs": [],
   "source": [
    "pd.set_option('display.max_columns', 100)\n",
    "pd.set_option('display.max_rows', 100)"
   ]
  },
  {
   "cell_type": "markdown",
   "metadata": {},
   "source": [
    "## Extracting Dataset from CSV file and creating a Pandas DF"
   ]
  },
  {
   "cell_type": "code",
   "execution_count": 2,
   "metadata": {},
   "outputs": [
    {
     "name": "stderr",
     "output_type": "stream",
     "text": [
      "C:\\Users\\Kenny\\Anaconda3\\lib\\site-packages\\IPython\\core\\interactiveshell.py:3057: DtypeWarning: Columns (0,129,130,131,134,135,136,139,144,145,146) have mixed types. Specify dtype option on import or set low_memory=False.\n",
      "  interactivity=interactivity, compiler=compiler, result=result)\n"
     ]
    }
   ],
   "source": [
    "df = pd.read_csv('LoanStats_securev1_2019Q1.csv', header=1)\n",
    "df.drop(df.tail(2).index,inplace=True)"
   ]
  },
  {
   "cell_type": "code",
   "execution_count": 3,
   "metadata": {
    "scrolled": true
   },
   "outputs": [
    {
     "name": "stderr",
     "output_type": "stream",
     "text": [
      "C:\\Users\\Kenny\\Anaconda3\\lib\\site-packages\\ipykernel_launcher.py:5: SettingWithCopyWarning: \n",
      "A value is trying to be set on a copy of a slice from a DataFrame.\n",
      "Try using .loc[row_indexer,col_indexer] = value instead\n",
      "\n",
      "See the caveats in the documentation: http://pandas.pydata.org/pandas-docs/stable/indexing.html#indexing-view-versus-copy\n",
      "  \"\"\"\n"
     ]
    }
   ],
   "source": [
    "# final pick\n",
    "df1 = df[['id','annual_inc','loan_amnt','purpose','application_type','grade','emp_length','tot_hi_cred_lim','home_ownership','addr_state','fico_range_low','dti','zip_code']]\n",
    "\n",
    "# clean id to numeric\n",
    "df1['id'] = pd.to_numeric(df1['id'])\n",
    "\n",
    "# clean emp_length\n",
    "df1 = df1.replace(to_replace=[\"< 1 year\", \"10+ years\"], value=[\"0\", \"10\"])\n",
    "df1['emp_length'] = df1['emp_length'].str.replace('years','')\n",
    "df1['emp_length'] = df1['emp_length'].str.replace('year','')\n",
    "df1['emp_length'] = pd.to_numeric(df1['emp_length'])\n",
    "\n",
    "# add more than 50k annual income column\n",
    "def annual_inc_calculate(row):\n",
    "    if row['annual_inc'] <= 50000:\n",
    "        val = 0\n",
    "    else:\n",
    "        val = 1\n",
    "    return val\n",
    "df1['more_than_50k'] = df.apply(annual_inc_calculate, axis=1)\n",
    "\n",
    "# limit dti\n",
    "high_dti = df1[df1['dti'] > 100].index\n",
    "df1.drop(high_dti, inplace=True)\n",
    "\n",
    "# limit tot_hi_cred_lim\n",
    "high_tot_hi_cred_lim = df1[df1['tot_hi_cred_lim'] > 1000000].index\n",
    "df1.drop(high_tot_hi_cred_lim, inplace=True)\n",
    "\n",
    "# create PK\n",
    "df1['pk'] = df1['zip_code'].str.lower() + '_' + df1['addr_state'].str.lower()\n",
    "\n",
    "#df re-ordered\n",
    "df1 = df1[['id','pk','annual_inc','more_than_50k','purpose','application_type','grade','home_ownership','addr_state','zip_code','loan_amnt','emp_length','tot_hi_cred_lim','fico_range_low','dti']]\n",
    "\n",
    "# dropnas\n",
    "df1 = df1.dropna()"
   ]
  },
  {
   "cell_type": "code",
   "execution_count": 5,
   "metadata": {},
   "outputs": [],
   "source": [
    "df1_to_tuples = list(df1.itertuples(index=False, name=None))"
   ]
  },
  {
   "cell_type": "code",
   "execution_count": 6,
   "metadata": {},
   "outputs": [],
   "source": [
    "list_of_tuples_for_dataset = []\n",
    "list_of_tuples_for_dataset.append(df1_to_tuples)"
   ]
  },
  {
   "cell_type": "code",
   "execution_count": 17,
   "metadata": {},
   "outputs": [],
   "source": [
    "list_of_tuples_for_dataset"
   ]
  },
  {
   "cell_type": "markdown",
   "metadata": {},
   "source": [
    "## Calling Census.gov's API for Median Income by County"
   ]
  },
  {
   "cell_type": "markdown",
   "metadata": {},
   "source": [
    "### Defining Dictionaries to use"
   ]
  },
  {
   "cell_type": "code",
   "execution_count": 8,
   "metadata": {},
   "outputs": [],
   "source": [
    "state = {'Alabama': 'AL','Alaska': 'AK','Arizona': 'AZ','Arkansas': 'AR',\n",
    "         'California': 'CA','Colorado': 'CO','Connecticut': 'CT','Delaware': 'DE',\n",
    "         'District of Columbia': 'DC','Florida': 'FL','Georgia': 'GA','Hawaii': 'HI',\n",
    "         'Idaho': 'ID','Illinois': 'IL','Indiana': 'IN','Iowa': 'IA',\n",
    "         'Kansas': 'KS','Kentucky': 'KY','Louisiana': 'LA','Maine': 'ME',\n",
    "         'Maryland': 'MD','Massachusetts': 'MA','Michigan': 'MI','Minnesota': 'MN',\n",
    "         'Mississippi': 'MS','Missouri': 'MO','Montana': 'MT','Nebraska': 'NE',\n",
    "         'Nevada': 'NV','New Hampshire': 'NH','New Jersey': 'NJ','New Mexico': 'NM',\n",
    "         'New York': 'NY','North Carolina': 'NC','North Dakota': 'ND','Ohio': 'OH',\n",
    "         'Oklahoma': 'OK','Oregon': 'OR','Pennsylvania': 'PA','Puerto Rico': 'PR','Rhode Island': 'RI',\n",
    "         'South Carolina': 'SC','South Dakota': 'SD','Tennessee': 'TN','Texas': 'TX',\n",
    "         'Utah': 'UT','Vermont': 'VT','Virginia': 'VA','Washington': 'WA',\n",
    "         'West Virginia': 'WV','Wisconsin': 'WI','Wyoming': 'WY'}\n",
    "\n",
    "state_code = {  '01': 'AL', '02': 'AK', '04': 'AZ', '05': 'AR',\n",
    "                '06': 'CA', '08': 'CO', '09': 'CT', '10': 'DE',\n",
    "                '11': 'DC', '12': 'FL', '13': 'GA', '15': 'HI',\n",
    "                '16': 'ID', '17': 'IL', '18': 'IN', '19': 'IA',\n",
    "                '20': 'KS', '21': 'KY', '22': 'LA', '23': 'ME',\n",
    "                '24': 'MD', '25': 'MA', '26': 'MI', '27': 'MN',\n",
    "                '28': 'MS', '29': 'MO', '30': 'MT', '31': 'NE',\n",
    "                '32': 'NV', '33': 'NH', '34': 'NJ', '35': 'NM',\n",
    "                '36': 'NY', '37': 'NC', '38': 'ND', '39': 'OH',\n",
    "                '40': 'OK', '41': 'OR', '42': 'PA', '44': 'RI',\n",
    "                '45': 'SC', '46': 'SD', '47': 'TN', '48': 'TX',\n",
    "                '49': 'UT', '50': 'VT', '51': 'VA', '53': 'WA',\n",
    "                '54': 'WV', '55': 'WI', '56': 'WY', '72': 'PR'}\n",
    "\n",
    "variable_name = \"DP03_0062E\""
   ]
  },
  {
   "cell_type": "markdown",
   "metadata": {},
   "source": [
    "### Creating function to call Census API"
   ]
  },
  {
   "cell_type": "code",
   "execution_count": 62,
   "metadata": {},
   "outputs": [],
   "source": [
    "def call_census_api_for_counties(variable_name='DP03_0062E'):\n",
    "    parameters = {\n",
    "        \"get\": f\"NAME,{variable_name}\",\n",
    "        \"for\": \"county:*\",\n",
    "        \"in\" : \"state:*\",\n",
    "        \"key\": config.census_api_key\n",
    "    }\n",
    "\n",
    "    response = requests.get(f\"http://api.census.gov/data/2017/acs/acs5/profile\", params=parameters)\n",
    "\n",
    "    json_response = response.json()\n",
    "\n",
    "    df = pd.DataFrame(json_response)\n",
    "    df.columns = df.iloc[0]\n",
    "    df = df.iloc[1:].reset_index()\n",
    "    df = df.drop(['index'], axis=1)\n",
    "    df['abbr'] = df['state'].map(state_code)\n",
    "    \n",
    "    for state_name in state:\n",
    "        df['NAME'] = df['NAME'].str.replace(f', {state_name}', '')\n",
    "        df['county_name'] = df['NAME'].str.replace('County', '')\n",
    "        df['county_name'] = df['county_name'].str.replace(' Census Area', '')\n",
    "        df['county_name'] = df['county_name'].str.replace(' City and Borough', '')\n",
    "        df['county_name'] = df['county_name'].str.replace(' Borough', '')\n",
    "        df['county_name'] = df['county_name'].str.replace(' Municipality', '')\n",
    "        df['county_name'] = df['county_name'].str.replace(' Parish', '')\n",
    "        df['county_name'] = df['county_name'].str.replace('St\\.', 'Saint')\n",
    "        df['county_name'] = df['county_name'].str.replace('-', ' ')\n",
    "        df['county_name'] = df['county_name'].str.strip()\n",
    "\n",
    "        \n",
    "    df['PK']=df['county_name'].str.lower()+'_'+df['abbr'].str.lower()\n",
    "    \n",
    "    df = df[['NAME','abbr','state','DP03_0062E','county','county_name','PK']]\n",
    "    \n",
    "    list_of_tuples = []\n",
    "    for index, row in df.iterrows():\n",
    "        list_of_tuples.append(\n",
    "            (\n",
    "                row['NAME'], row['abbr'], row['state'], \n",
    "                row[f'{variable_name}'], row['county'], row['county_name'], \n",
    "                row['PK']\n",
    "            )\n",
    "        )\n",
    "        \n",
    "    return list_of_tuples, df"
   ]
  },
  {
   "cell_type": "code",
   "execution_count": 63,
   "metadata": {},
   "outputs": [],
   "source": [
    "tuples, df_census_api_counties = call_census_api_for_counties()"
   ]
  },
  {
   "cell_type": "code",
   "execution_count": 64,
   "metadata": {},
   "outputs": [],
   "source": [
    "list_of_tuples_for_census_api = []\n",
    "list_of_tuples_for_census_api.append(tuples)"
   ]
  },
  {
   "cell_type": "code",
   "execution_count": 18,
   "metadata": {
    "scrolled": true
   },
   "outputs": [],
   "source": [
    "df_census_api_counties"
   ]
  },
  {
   "cell_type": "markdown",
   "metadata": {},
   "source": [
    "## Webscraping getzips.com for Zipcode"
   ]
  },
  {
   "cell_type": "markdown",
   "metadata": {},
   "source": [
    "### Create function to webscrape getzips.com"
   ]
  },
  {
   "cell_type": "code",
   "execution_count": 57,
   "metadata": {},
   "outputs": [],
   "source": [
    "def get_zipcode(county, state):\n",
    "    url = f\"https://www.getzips.com/cgi-bin/ziplook.exe?What=3&County={county}&State={state}&Submit=Look+It+Up\"\n",
    "    page = requests.get(url)\n",
    "    soup1 = BeautifulSoup(page.content, 'html.parser')\n",
    "\n",
    "    table = soup1.find_all('table')[2]\n",
    "    rows = table.find_all('tr')\n",
    "    row_list = list()\n",
    "\n",
    "    for tr in rows:\n",
    "        td = tr.find_all('td')\n",
    "        row = [i.text for i in td]\n",
    "        row_list.append(row)\n",
    "\n",
    "    columns = row_list[0]\n",
    "    row_list.pop(0)\n",
    "    try:\n",
    "        first_3_zipcode = re.search(\"(^\\d{3})+\", row_list[0][0], flags=re.I)\n",
    "        first_3_zipcode = first_3_zipcode[0]+\"xx\"\n",
    "    except Exception as e:\n",
    "        first_3_zipcode = '000xx'\n",
    "        print(f\"could not find: {county}, {state}\")\n",
    "\n",
    "    df_bs = pd.DataFrame(row_list,columns=columns)\n",
    "\n",
    "    return (first_3_zipcode, county, state, county.lower()+'_'+state.lower(), first_3_zipcode+'_'+state.lower())"
   ]
  },
  {
   "cell_type": "code",
   "execution_count": 60,
   "metadata": {},
   "outputs": [],
   "source": [
    "dict_zipcodes_by_county = {}\n",
    "for index in range(0, len(df_census_api_counties)):\n",
    "    county_name = df_census_api_counties['county_name'][index].strip()\n",
    "    state_name = df_census_api_counties['abbr'][index]\n",
    "    dict_zipcodes_by_county[county_name] = get_zipcode(county_name, state_name)\n",
    "    print(f'index: {index}   county_name: {county_name}   state: {state_name}')\n",
    "    print(dict_zipcodes_by_county[county_name])\n",
    "    time.sleep(.50)\n",
    "dict_zipcodes_by_county"
   ]
  },
  {
   "cell_type": "markdown",
   "metadata": {},
   "source": [
    "**Note, since this webscrape is over 3,100 rows. It has been saved as a file called get_zipcodes.py**"
   ]
  },
  {
   "cell_type": "markdown",
   "metadata": {},
   "source": [
    "## Create Database"
   ]
  },
  {
   "cell_type": "code",
   "execution_count": 2,
   "metadata": {},
   "outputs": [],
   "source": [
    "db_name = config.db_name"
   ]
  },
  {
   "cell_type": "code",
   "execution_count": 3,
   "metadata": {},
   "outputs": [],
   "source": [
    "cnx = mysql.connector.connect(\n",
    "    host=config.host,\n",
    "    user=config.user,\n",
    "    passwd=config.password,\n",
    "    database=db_name,\n",
    "    buffered=True\n",
    ")\n",
    "\n",
    "cursor = cnx.cursor()"
   ]
  },
  {
   "cell_type": "code",
   "execution_count": 105,
   "metadata": {},
   "outputs": [],
   "source": [
    "def create_database(cursor, database):\n",
    "    try:\n",
    "        cursor.execute(\n",
    "            \"CREATE DATABASE {} DEFAULT CHARACTER SET 'utf8'\".format(database))\n",
    "    except mysql.connector.Error as err:\n",
    "        print(\"Failed creating database: {}\".format(err))\n",
    "        exit(1)\n",
    "        \n",
    "#run create_database\n",
    "try:\n",
    "    cursor.execute(\"USE {}\".format(db_name))\n",
    "except mysql.connector.Error as err:\n",
    "    print(\"Database {} does not exists.\".format(db_name))\n",
    "    if err.errno == errorcode.ER_BAD_DB_ERROR:\n",
    "        create_database(cursor, db_name)\n",
    "        print(\"Database {} created successfully.\".format(db_name))\n",
    "        cnx.database = db_name\n",
    "    else:\n",
    "        print(err)\n",
    "        exit(1)"
   ]
  },
  {
   "cell_type": "markdown",
   "metadata": {},
   "source": [
    "## Create DB Tables"
   ]
  },
  {
   "cell_type": "code",
   "execution_count": 4,
   "metadata": {},
   "outputs": [],
   "source": [
    "TABLES = {}\n",
    "TABLES['census_median_income_data'] = (\n",
    "    \"\"\"CREATE TABLE census_median_income_data (\n",
    "       full_county_name varchar(100) NOT NULL,\n",
    "       state_abbrev      varchar(10) NOT NULL,\n",
    "       state_code            int(10) NOT NULL,\n",
    "       med_inc              int(100) NOT NULL,\n",
    "       county_code           int(10) NOT NULL,\n",
    "       county           varchar(100) NOT NULL,\n",
    "       pk               varchar(100) NOT NULL,\n",
    "       PRIMARY KEY (pk)\n",
    "     ) ENGINE=InnoDB;\"\"\")\n",
    "\n",
    "TABLES['zip_codes'] = (\n",
    "    \"\"\"CREATE TABLE zip_codes (\n",
    "       zipcode           varchar(50) NOT NULL,\n",
    "       county            varchar(50) NOT NULL,\n",
    "       state_abbrev      varchar(10) NOT NULL,\n",
    "       pk               varchar(100) NOT NULL,\n",
    "       pk1              varchar(100) NOT NULL,\n",
    "       PRIMARY KEY (pk)\n",
    "     ) ENGINE=InnoDB;\"\"\")\n",
    "\n",
    "TABLES['dataset_lendingclub'] = (\n",
    "    \"\"\"CREATE TABLE dataset_lendingclub (\n",
    "     id                         int(10) NOT NULL,\n",
    "     pk                    varchar(100) NOT NULL,\n",
    "     annual_inc             float(10) NOT NULL,\n",
    "     more_than_50k              int(10) NOT NULL,\n",
    "     purpose                varchar(50) NOT NULL,\n",
    "     application_type       varchar(50) NOT NULL,\n",
    "     grade                  varchar(10) NOT NULL,\n",
    "     home_ownership         varchar(50) NOT NULL,\n",
    "     addr_state             varchar(10) NOT NULL,\n",
    "     zip_code               varchar(10) NOT NULL,\n",
    "     loan_amnt              float(10) NOT NULL,\n",
    "     emp_length             float(10) NOT NULL,\n",
    "     tot_hi_cred_lim        float(10) NOT NULL,\n",
    "     fico_range_low         float(10) NOT NULL,\n",
    "     dti                    float(10) NOT NULL,\n",
    "     PRIMARY KEY (id)\n",
    "     ) ENGINE=InnoDB;\"\"\")"
   ]
  },
  {
   "cell_type": "code",
   "execution_count": 107,
   "metadata": {
    "scrolled": true
   },
   "outputs": [
    {
     "name": "stdout",
     "output_type": "stream",
     "text": [
      "Creating table census_median_income_data: already exists.\n",
      "Creating table zip_codes: OK\n",
      "Creating table dataset_lendingclub: already exists.\n"
     ]
    }
   ],
   "source": [
    "for table_name in TABLES:\n",
    "    table_description = TABLES[table_name]\n",
    "    try:\n",
    "        print(\"Creating table {}: \".format(table_name), end='')\n",
    "        cursor.execute(table_description)\n",
    "    except mysql.connector.Error as err:\n",
    "        if err.errno == errorcode.ER_TABLE_EXISTS_ERROR:\n",
    "            print(\"already exists.\")\n",
    "        else:\n",
    "            print(err.msg)\n",
    "    else:\n",
    "        print(\"OK\")"
   ]
  },
  {
   "cell_type": "markdown",
   "metadata": {},
   "source": [
    "## Insert tuples into `dataset_lendingclub` db table"
   ]
  },
  {
   "cell_type": "code",
   "execution_count": 61,
   "metadata": {},
   "outputs": [
    {
     "name": "stdout",
     "output_type": "stream",
     "text": [
      "Successfully added to database: 'mod5_project' on table: 'dataset_lendingclub' for county: (149328059, '152xx_pa', 68000.0, 1, 'debt_consolidation', 'Individual', 'A', 'MORTGAGE', 'PA', '152xx', 13500.0, 8.0, 224894.0, 750.0, 15.74)\n"
     ]
    }
   ],
   "source": [
    "db_table = 'dataset_lendingclub'\n",
    "for applicant in list_of_tuples_for_dataset:\n",
    "    insert_statement = f\"\"\"INSERT INTO dataset_lendingclub \n",
    "                (\n",
    "                    id,\n",
    "                    pk,\n",
    "                    annual_inc,\n",
    "                    more_than_50k,\n",
    "                    purpose,\n",
    "                    application_type,\n",
    "                    grade,\n",
    "                    home_ownership,\n",
    "                    addr_state,\n",
    "                    zip_code,\n",
    "                    loan_amnt,\n",
    "                    emp_length,\n",
    "                    tot_hi_cred_lim,\n",
    "                    fico_range_low,\n",
    "                    dti\n",
    "                ) \n",
    "                VALUES (%s, %s, %s, %s, %s, %s, %s, %s, %s, %s, %s, %s, %s, %s, %s)\"\"\"\n",
    "    cursor.executemany(insert_statement, applicant)\n",
    "    cnx.commit()\n",
    "    print(f\"Successfully added to database: '{db_name}' on table: '{db_table}' for county: {applicant[0]}\")"
   ]
  },
  {
   "cell_type": "markdown",
   "metadata": {},
   "source": [
    "## Insert tuples into `census_median_income_data` db table"
   ]
  },
  {
   "cell_type": "code",
   "execution_count": 15,
   "metadata": {},
   "outputs": [
    {
     "name": "stdout",
     "output_type": "stream",
     "text": [
      "Successfully added to database: 'mod5_project' on table: 'census_median_income_data' for county: ('Pickens County', 'AL', '01', '36220', '107', 'Pickens', 'pickens_al')\n"
     ]
    }
   ],
   "source": [
    "db_table = 'census_median_income_data'\n",
    "for county in list_of_tuples_for_census_api:\n",
    "    insert_statement = f\"\"\"INSERT INTO census_median_income_data \n",
    "                        (\n",
    "                            full_county_name, \n",
    "                             state_abbrev, \n",
    "                             state_code, \n",
    "                             med_inc,\n",
    "                             county_code, \n",
    "                             county, \n",
    "                             pk\n",
    "                        ) \n",
    "                        VALUES (%s, %s, %s, %s, %s, %s, %s)\"\"\"\n",
    "    cursor.executemany(insert_statement, county)\n",
    "    cnx.commit()\n",
    "    print(f\"Successfully added to database: '{db_name}' on table: '{db_table}' for county: {county[0]}\")"
   ]
  },
  {
   "cell_type": "markdown",
   "metadata": {},
   "source": [
    "## Insert tuples into `zip_code` db table"
   ]
  },
  {
   "cell_type": "code",
   "execution_count": 5,
   "metadata": {},
   "outputs": [
    {
     "name": "stdout",
     "output_type": "stream",
     "text": [
      "Successfully added to database: 'mod5_project' on table: 'zip_codes' for zipcode: ('296xx', 'Abbeville', 'SC', 'abbeville_sc', '296xx_sc')\n"
     ]
    }
   ],
   "source": [
    "db_table = 'zip_codes'\n",
    "for zipcode in get_zipcodes.zip_codes:\n",
    "    insert_statement = f\"\"\"INSERT INTO zip_codes\n",
    "                        (\n",
    "                            zipcode, \n",
    "                            county, \n",
    "                            state_abbrev, \n",
    "                            pk,\n",
    "                            pk1\n",
    "                        ) \n",
    "                        VALUES (%s, %s, %s, %s, %s)\"\"\"\n",
    "    cursor.executemany(insert_statement, zipcode)\n",
    "    cnx.commit()\n",
    "    print(f\"Successfully added to database: '{db_name}' on table: '{db_table}' for zipcode: {zipcode[0]}\")"
   ]
  },
  {
   "cell_type": "markdown",
   "metadata": {},
   "source": [
    "zipcodes did not have pk1 (example 296xx_sc) so I created it"
   ]
  },
  {
   "cell_type": "markdown",
   "metadata": {},
   "source": [
    "# Dataframe creation with all 3 tables"
   ]
  },
  {
   "cell_type": "code",
   "execution_count": 8,
   "metadata": {},
   "outputs": [
    {
     "data": {
      "text/html": [
       "<div>\n",
       "<style scoped>\n",
       "    .dataframe tbody tr th:only-of-type {\n",
       "        vertical-align: middle;\n",
       "    }\n",
       "\n",
       "    .dataframe tbody tr th {\n",
       "        vertical-align: top;\n",
       "    }\n",
       "\n",
       "    .dataframe thead th {\n",
       "        text-align: right;\n",
       "    }\n",
       "</style>\n",
       "<table border=\"1\" class=\"dataframe\">\n",
       "  <thead>\n",
       "    <tr style=\"text-align: right;\">\n",
       "      <th></th>\n",
       "      <th>id</th>\n",
       "      <th>pk</th>\n",
       "      <th>annual_inc</th>\n",
       "      <th>more_than_50k</th>\n",
       "      <th>purpose</th>\n",
       "      <th>appplication_type</th>\n",
       "      <th>grade</th>\n",
       "      <th>home_ownership</th>\n",
       "      <th>addr_state</th>\n",
       "      <th>zip_code</th>\n",
       "      <th>loan_amnt</th>\n",
       "      <th>emp_length</th>\n",
       "      <th>tot_hi_cred_lim</th>\n",
       "      <th>fico_range_low</th>\n",
       "      <th>dti</th>\n",
       "      <th>med_inc_county</th>\n",
       "      <th>c.pk</th>\n",
       "      <th>z.pk</th>\n",
       "    </tr>\n",
       "  </thead>\n",
       "  <tbody>\n",
       "    <tr>\n",
       "      <td>0</td>\n",
       "      <td>144271390</td>\n",
       "      <td>296xx_sc</td>\n",
       "      <td>133250.0</td>\n",
       "      <td>1</td>\n",
       "      <td>debt_consolidation</td>\n",
       "      <td>Joint App</td>\n",
       "      <td>B</td>\n",
       "      <td>MORTGAGE</td>\n",
       "      <td>SC</td>\n",
       "      <td>296xx</td>\n",
       "      <td>35000.0</td>\n",
       "      <td>10.0</td>\n",
       "      <td>213475.0</td>\n",
       "      <td>700.0</td>\n",
       "      <td>10.67</td>\n",
       "      <td>35254.0</td>\n",
       "      <td>abbeville_sc</td>\n",
       "      <td>296xx_sc</td>\n",
       "    </tr>\n",
       "    <tr>\n",
       "      <td>1</td>\n",
       "      <td>145219778</td>\n",
       "      <td>296xx_sc</td>\n",
       "      <td>54000.0</td>\n",
       "      <td>1</td>\n",
       "      <td>debt_consolidation</td>\n",
       "      <td>Individual</td>\n",
       "      <td>A</td>\n",
       "      <td>OWN</td>\n",
       "      <td>SC</td>\n",
       "      <td>296xx</td>\n",
       "      <td>29000.0</td>\n",
       "      <td>0.0</td>\n",
       "      <td>88666.0</td>\n",
       "      <td>685.0</td>\n",
       "      <td>14.39</td>\n",
       "      <td>35254.0</td>\n",
       "      <td>abbeville_sc</td>\n",
       "      <td>296xx_sc</td>\n",
       "    </tr>\n",
       "    <tr>\n",
       "      <td>2</td>\n",
       "      <td>144545077</td>\n",
       "      <td>705xx_la</td>\n",
       "      <td>32000.0</td>\n",
       "      <td>0</td>\n",
       "      <td>credit_card</td>\n",
       "      <td>Joint App</td>\n",
       "      <td>A</td>\n",
       "      <td>OWN</td>\n",
       "      <td>LA</td>\n",
       "      <td>705xx</td>\n",
       "      <td>9000.0</td>\n",
       "      <td>8.0</td>\n",
       "      <td>76269.0</td>\n",
       "      <td>720.0</td>\n",
       "      <td>37.13</td>\n",
       "      <td>40492.0</td>\n",
       "      <td>acadia_la</td>\n",
       "      <td>705xx_la</td>\n",
       "    </tr>\n",
       "    <tr>\n",
       "      <td>3</td>\n",
       "      <td>144970474</td>\n",
       "      <td>705xx_la</td>\n",
       "      <td>52000.0</td>\n",
       "      <td>1</td>\n",
       "      <td>debt_consolidation</td>\n",
       "      <td>Individual</td>\n",
       "      <td>C</td>\n",
       "      <td>MORTGAGE</td>\n",
       "      <td>LA</td>\n",
       "      <td>705xx</td>\n",
       "      <td>12000.0</td>\n",
       "      <td>10.0</td>\n",
       "      <td>131063.0</td>\n",
       "      <td>760.0</td>\n",
       "      <td>33.12</td>\n",
       "      <td>40492.0</td>\n",
       "      <td>acadia_la</td>\n",
       "      <td>705xx_la</td>\n",
       "    </tr>\n",
       "    <tr>\n",
       "      <td>4</td>\n",
       "      <td>145462395</td>\n",
       "      <td>705xx_la</td>\n",
       "      <td>40000.0</td>\n",
       "      <td>0</td>\n",
       "      <td>credit_card</td>\n",
       "      <td>Individual</td>\n",
       "      <td>A</td>\n",
       "      <td>OWN</td>\n",
       "      <td>LA</td>\n",
       "      <td>705xx</td>\n",
       "      <td>10000.0</td>\n",
       "      <td>4.0</td>\n",
       "      <td>52590.0</td>\n",
       "      <td>725.0</td>\n",
       "      <td>12.60</td>\n",
       "      <td>40492.0</td>\n",
       "      <td>acadia_la</td>\n",
       "      <td>705xx_la</td>\n",
       "    </tr>\n",
       "    <tr>\n",
       "      <td>...</td>\n",
       "      <td>...</td>\n",
       "      <td>...</td>\n",
       "      <td>...</td>\n",
       "      <td>...</td>\n",
       "      <td>...</td>\n",
       "      <td>...</td>\n",
       "      <td>...</td>\n",
       "      <td>...</td>\n",
       "      <td>...</td>\n",
       "      <td>...</td>\n",
       "      <td>...</td>\n",
       "      <td>...</td>\n",
       "      <td>...</td>\n",
       "      <td>...</td>\n",
       "      <td>...</td>\n",
       "      <td>...</td>\n",
       "      <td>...</td>\n",
       "      <td>...</td>\n",
       "    </tr>\n",
       "    <tr>\n",
       "      <td>103718</td>\n",
       "      <td>149514622</td>\n",
       "      <td>077xx_nj</td>\n",
       "      <td>72500.0</td>\n",
       "      <td>1</td>\n",
       "      <td>debt_consolidation</td>\n",
       "      <td>Individual</td>\n",
       "      <td>B</td>\n",
       "      <td>RENT</td>\n",
       "      <td>NJ</td>\n",
       "      <td>077xx</td>\n",
       "      <td>16000.0</td>\n",
       "      <td>2.0</td>\n",
       "      <td>107175.0</td>\n",
       "      <td>680.0</td>\n",
       "      <td>29.58</td>\n",
       "      <td>NaN</td>\n",
       "      <td>None</td>\n",
       "      <td>077xx_nj</td>\n",
       "    </tr>\n",
       "    <tr>\n",
       "      <td>103719</td>\n",
       "      <td>149515866</td>\n",
       "      <td>581xx_nd</td>\n",
       "      <td>105000.0</td>\n",
       "      <td>1</td>\n",
       "      <td>debt_consolidation</td>\n",
       "      <td>Individual</td>\n",
       "      <td>D</td>\n",
       "      <td>MORTGAGE</td>\n",
       "      <td>ND</td>\n",
       "      <td>581xx</td>\n",
       "      <td>25000.0</td>\n",
       "      <td>8.0</td>\n",
       "      <td>271427.0</td>\n",
       "      <td>660.0</td>\n",
       "      <td>20.23</td>\n",
       "      <td>NaN</td>\n",
       "      <td>None</td>\n",
       "      <td>581xx_nd</td>\n",
       "    </tr>\n",
       "    <tr>\n",
       "      <td>103720</td>\n",
       "      <td>149517782</td>\n",
       "      <td>152xx_pa</td>\n",
       "      <td>49000.0</td>\n",
       "      <td>0</td>\n",
       "      <td>debt_consolidation</td>\n",
       "      <td>Individual</td>\n",
       "      <td>C</td>\n",
       "      <td>MORTGAGE</td>\n",
       "      <td>PA</td>\n",
       "      <td>152xx</td>\n",
       "      <td>12000.0</td>\n",
       "      <td>5.0</td>\n",
       "      <td>189260.0</td>\n",
       "      <td>700.0</td>\n",
       "      <td>13.47</td>\n",
       "      <td>NaN</td>\n",
       "      <td>None</td>\n",
       "      <td>152xx_pa</td>\n",
       "    </tr>\n",
       "    <tr>\n",
       "      <td>103721</td>\n",
       "      <td>149517844</td>\n",
       "      <td>606xx_il</td>\n",
       "      <td>150000.0</td>\n",
       "      <td>1</td>\n",
       "      <td>debt_consolidation</td>\n",
       "      <td>Individual</td>\n",
       "      <td>C</td>\n",
       "      <td>RENT</td>\n",
       "      <td>IL</td>\n",
       "      <td>606xx</td>\n",
       "      <td>15000.0</td>\n",
       "      <td>3.0</td>\n",
       "      <td>147623.0</td>\n",
       "      <td>705.0</td>\n",
       "      <td>15.58</td>\n",
       "      <td>NaN</td>\n",
       "      <td>None</td>\n",
       "      <td>606xx_il</td>\n",
       "    </tr>\n",
       "    <tr>\n",
       "      <td>103722</td>\n",
       "      <td>149519264</td>\n",
       "      <td>333xx_fl</td>\n",
       "      <td>122000.0</td>\n",
       "      <td>1</td>\n",
       "      <td>credit_card</td>\n",
       "      <td>Individual</td>\n",
       "      <td>C</td>\n",
       "      <td>RENT</td>\n",
       "      <td>FL</td>\n",
       "      <td>333xx</td>\n",
       "      <td>35000.0</td>\n",
       "      <td>10.0</td>\n",
       "      <td>65640.0</td>\n",
       "      <td>665.0</td>\n",
       "      <td>22.00</td>\n",
       "      <td>NaN</td>\n",
       "      <td>None</td>\n",
       "      <td>333xx_fl</td>\n",
       "    </tr>\n",
       "  </tbody>\n",
       "</table>\n",
       "<p>103723 rows × 18 columns</p>\n",
       "</div>"
      ],
      "text/plain": [
       "               id        pk  annual_inc  more_than_50k             purpose  \\\n",
       "0       144271390  296xx_sc    133250.0              1  debt_consolidation   \n",
       "1       145219778  296xx_sc     54000.0              1  debt_consolidation   \n",
       "2       144545077  705xx_la     32000.0              0         credit_card   \n",
       "3       144970474  705xx_la     52000.0              1  debt_consolidation   \n",
       "4       145462395  705xx_la     40000.0              0         credit_card   \n",
       "...           ...       ...         ...            ...                 ...   \n",
       "103718  149514622  077xx_nj     72500.0              1  debt_consolidation   \n",
       "103719  149515866  581xx_nd    105000.0              1  debt_consolidation   \n",
       "103720  149517782  152xx_pa     49000.0              0  debt_consolidation   \n",
       "103721  149517844  606xx_il    150000.0              1  debt_consolidation   \n",
       "103722  149519264  333xx_fl    122000.0              1         credit_card   \n",
       "\n",
       "       appplication_type grade home_ownership addr_state zip_code  loan_amnt  \\\n",
       "0              Joint App     B       MORTGAGE         SC    296xx    35000.0   \n",
       "1             Individual     A            OWN         SC    296xx    29000.0   \n",
       "2              Joint App     A            OWN         LA    705xx     9000.0   \n",
       "3             Individual     C       MORTGAGE         LA    705xx    12000.0   \n",
       "4             Individual     A            OWN         LA    705xx    10000.0   \n",
       "...                  ...   ...            ...        ...      ...        ...   \n",
       "103718        Individual     B           RENT         NJ    077xx    16000.0   \n",
       "103719        Individual     D       MORTGAGE         ND    581xx    25000.0   \n",
       "103720        Individual     C       MORTGAGE         PA    152xx    12000.0   \n",
       "103721        Individual     C           RENT         IL    606xx    15000.0   \n",
       "103722        Individual     C           RENT         FL    333xx    35000.0   \n",
       "\n",
       "        emp_length  tot_hi_cred_lim  fico_range_low    dti  med_inc_county  \\\n",
       "0             10.0         213475.0           700.0  10.67         35254.0   \n",
       "1              0.0          88666.0           685.0  14.39         35254.0   \n",
       "2              8.0          76269.0           720.0  37.13         40492.0   \n",
       "3             10.0         131063.0           760.0  33.12         40492.0   \n",
       "4              4.0          52590.0           725.0  12.60         40492.0   \n",
       "...            ...              ...             ...    ...             ...   \n",
       "103718         2.0         107175.0           680.0  29.58             NaN   \n",
       "103719         8.0         271427.0           660.0  20.23             NaN   \n",
       "103720         5.0         189260.0           700.0  13.47             NaN   \n",
       "103721         3.0         147623.0           705.0  15.58             NaN   \n",
       "103722        10.0          65640.0           665.0  22.00             NaN   \n",
       "\n",
       "                c.pk      z.pk  \n",
       "0       abbeville_sc  296xx_sc  \n",
       "1       abbeville_sc  296xx_sc  \n",
       "2          acadia_la  705xx_la  \n",
       "3          acadia_la  705xx_la  \n",
       "4          acadia_la  705xx_la  \n",
       "...              ...       ...  \n",
       "103718          None  077xx_nj  \n",
       "103719          None  581xx_nd  \n",
       "103720          None  152xx_pa  \n",
       "103721          None  606xx_il  \n",
       "103722          None  333xx_fl  \n",
       "\n",
       "[103723 rows x 18 columns]"
      ]
     },
     "execution_count": 8,
     "metadata": {},
     "output_type": "execute_result"
    }
   ],
   "source": [
    "# Dataframe creation with all 3 tables\n",
    "execute_statement = \"\"\"\n",
    "                    SELECT d.id, d.pk, d.annual_inc, d.more_than_50k, \n",
    "                           d.purpose, d.application_type, d.grade, d.home_ownership,\n",
    "                           d.addr_state, d.zip_code, d.loan_amnt, d.emp_length,\n",
    "                           d.tot_hi_cred_lim, d.fico_range_low, d.dti,\n",
    "                           c.med_inc, c.pk, d.pk\n",
    "                    FROM mod5_project.dataset_lendingclub AS d\n",
    "                    LEFT JOIN mod5_project.zip_codes AS z\n",
    "                    ON d.pk = z.pk1\n",
    "                    LEFT JOIN mod5_project.census_median_income_data AS c\n",
    "                    ON c.pk = z.pk\n",
    "                    GROUP BY d.id\n",
    "                    ;                    \n",
    "                    \"\"\"\n",
    "cursor.execute(execute_statement)\n",
    "df = cursor.fetchall()\n",
    "column = ['id', 'pk', 'annual_inc', 'more_than_50k', \n",
    "          'purpose', 'appplication_type', 'grade', 'home_ownership', \n",
    "          'addr_state', 'zip_code', 'loan_amnt', 'emp_length', \n",
    "          'tot_hi_cred_lim', 'fico_range_low', 'dti',\n",
    "          'med_inc_county', 'c.pk', 'z.pk'\n",
    "         ]\n",
    "df = pd.DataFrame(df, columns = column)\n",
    "df"
   ]
  },
  {
   "cell_type": "code",
   "execution_count": 9,
   "metadata": {},
   "outputs": [
    {
     "data": {
      "text/plain": [
       "med_inc_county    19633\n",
       "c.pk              19633\n",
       "z.pk                  0\n",
       "home_ownership        0\n",
       "pk                    0\n",
       "dtype: int64"
      ]
     },
     "execution_count": 9,
     "metadata": {},
     "output_type": "execute_result"
    }
   ],
   "source": [
    "df.isnull().sum().sort_values(ascending=False).head()"
   ]
  },
  {
   "cell_type": "code",
   "execution_count": 19,
   "metadata": {},
   "outputs": [],
   "source": [
    "df = df.dropna()"
   ]
  },
  {
   "cell_type": "markdown",
   "metadata": {},
   "source": [
    "# Scratch Work below"
   ]
  },
  {
   "cell_type": "code",
   "execution_count": null,
   "metadata": {},
   "outputs": [],
   "source": [
    "# execute_statement = \"\"\"\n",
    "# SELECT * FROM mod5_project.zip_codes;\n",
    "# \"\"\"\n",
    "# cursor.execute(execute_statement)\n",
    "# foo = cursor.fetchall()\n",
    "# column = ['zipcode', 'county', 'state_abbrev', 'pk']\n",
    "# foo = pd.DataFrame(foo, columns = column)\n",
    "# foo['pk1'] = foo['zipcode'].str.lower() + '_' + foo['state_abbrev'].str.lower()\n",
    "\n",
    "# Select duplicate rows except first occurrence based on all columns\n",
    "# duplicateRowsDF = foo[foo.duplicated()]\n",
    "# print(\"Duplicate Rows except first occurrence based on all columns are :\")\n",
    "# print(duplicateRowsDF)\n",
    "\n",
    "# Select all duplicate rows based on one column\n",
    "# duplicateRowsDF = foo[foo.duplicated(['pk1'])]\n",
    "# print(\"Duplicate Rows based on a single column are:\", duplicateRowsDF, sep='\\n')\n",
    "\n",
    "# df2_to_tuples = list(foo.itertuples(index=False, name=None))\n",
    "\n",
    "# list_of_tuples_for_zipcode = []\n",
    "# list_of_tuples_for_zipcode.append(df2_to_tuples)\n",
    "\n",
    "# list_of_tuples_for_zipcode\n",
    "\n",
    "# Dataframe creation for combining API + Webscrape tables\n",
    "# execute_statement = \"\"\"\n",
    "#                     SELECT \n",
    "#                         c.full_county_name, c.state_abbrev, c.med_inc, c.county, \n",
    "#                         c.pk, z.zipcode, z.pk1\n",
    "#                     FROM \n",
    "#                         mod5_project.census_median_income_data AS c\n",
    "#                     JOIN \n",
    "#                         mod5_project.zip_codes AS z\n",
    "#                     ON \n",
    "#                         c.pk = z.pk\n",
    "#                     ;                    \n",
    "#                     \"\"\"\n",
    "# cursor.execute(execute_statement)\n",
    "# bar = cursor.fetchall()\n",
    "# column = ['full_county_name', 'state_abbrev', 'med_inc', 'county', 'pk', 'zipcode', 'pk1']\n",
    "# bar = pd.DataFrame(bar, columns = column)\n",
    "\n",
    "# Dataframe creation for combining API + Webscrape tables\n",
    "# execute_statement = \"\"\"\n",
    "#                     SELECT\n",
    "#                         *\n",
    "#                     FROM\n",
    "#                         mod5_project.dataset_lendingclub\n",
    "#                     ;\n",
    "#                     \"\"\"\n",
    "# cursor.execute(execute_statement)\n",
    "# foobar = cursor.fetchall()\n",
    "# column = ['id', 'pk', 'annual_inc', 'more_than_50k', \n",
    "#           'purpose', 'appplication_type', 'grade', 'home_ownership', \n",
    "#           'addr_state', 'zip_code', 'loan_amnt', 'emp_length', \n",
    "#           'tot_hi_cred_lim', 'fico_range_low', 'dti']\n",
    "# foobar = pd.DataFrame(foobar, columns = column)\n",
    "\n",
    "# df_merge_difkey = pd.merge(foobar, bar, left_on='pk', right_on='pk1', how='left')\n",
    "# df_merge_difkey = df_merge_difkey.sort_values(by=['id'])\n",
    "\n",
    "# df_merge_difkey\n",
    "\n",
    "# df_merge_difkey = df_merge_difkey.drop_duplicates(subset=['id'])\n",
    "# df_merge_difkey = df_merge_difkey.sort_values(by=['full_county_name'])\n",
    "\n",
    "# df_merge_difkey\n",
    "\n",
    "# df_merge_difkey.isna().sum()\n",
    "# df_merge_difkey.isnull().sum().sort_values(ascending=False).head()\n",
    "# df_merge_difkey.dropna()"
   ]
  }
 ],
 "metadata": {
  "kernelspec": {
   "display_name": "Python 3",
   "language": "python",
   "name": "python3"
  },
  "language_info": {
   "codemirror_mode": {
    "name": "ipython",
    "version": 3
   },
   "file_extension": ".py",
   "mimetype": "text/x-python",
   "name": "python",
   "nbconvert_exporter": "python",
   "pygments_lexer": "ipython3",
   "version": "3.7.4"
  }
 },
 "nbformat": 4,
 "nbformat_minor": 2
}
