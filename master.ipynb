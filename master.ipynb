{
 "cells": [
  {
   "cell_type": "markdown",
   "metadata": {},
   "source": [
    "# Can we predict if a person makes more than or less than $50,000?"
   ]
  },
  {
   "cell_type": "markdown",
   "metadata": {},
   "source": [
    "### Imports"
   ]
  },
  {
   "cell_type": "code",
   "execution_count": 7,
   "metadata": {},
   "outputs": [],
   "source": [
    "import pandas as pd\n",
    "import numpy as np\n",
    "import matplotlib.pyplot as plt\n",
    "import seaborn as sns\n",
    "from sklearn.preprocessing import MinMaxScaler\n",
    "from sklearn.model_selection import train_test_split"
   ]
  },
  {
   "cell_type": "markdown",
   "metadata": {},
   "source": [
    "### Importing Dataframe"
   ]
  },
  {
   "cell_type": "code",
   "execution_count": 8,
   "metadata": {},
   "outputs": [],
   "source": [
    "df = pd.read_csv('LoanStats_securev1_2019Q1.csv', header=1)\n",
    "df.drop(df.tail(2).index,inplace=True)"
   ]
  },
  {
   "attachments": {},
   "cell_type": "markdown",
   "metadata": {},
   "source": [
    "### Data Cleaning\n",
    "Variables used:\\\n",
    "**id** = A unique LC assigned ID for the loan listing.\\\n",
    "**annual_inc** = The self-reported annual income provided by the borrower during registration.\\\n",
    "**loan_amnt** = The listed amount of the loan applied for by the borrower. If at some point in time, the credit department reduces the loan amount, then it will be reflected in this value.\\\n",
    "**purpose** = A category provided by the borrower for the loan request.\\\n",
    "**application_type** = Indicates whether the loan is an individual application or a joint application with two co-borrowers\\\n",
    "**grade** = LC assigned loan grade\\\n",
    "**emp_length** = Employment length in years. Possible values are between 0 and 10 where 0 means less than one year and 10 means ten or more years.\\\n",
    "**tot_hi_cred_lim** = Total high credit/credit limit\\\n",
    "**home_ownership** = The home ownership status provided by the borrower during registration or obtained from the credit report. Our values are: RENT, OWN, MORTGAGE, OTHER\\\n",
    "**addr_state** = The state provided by the borrower in the loan application\\\n",
    "**fico_range_low** = The lower boundary range the borrower’s FICO at loan origination belongs to.\\\n",
    "**dti** = A ratio calculated using the borrower’s total monthly debt payments on the total debt obligations, excluding mortgage and the requested LC loan, divided by the borrower’s self-reported monthly income.\\"
   ]
  },
  {
   "cell_type": "code",
   "execution_count": 9,
   "metadata": {
    "scrolled": false
   },
   "outputs": [
    {
     "name": "stderr",
     "output_type": "stream",
     "text": [
      "/Users/kennymiyasato/opt/anaconda3/lib/python3.7/site-packages/ipykernel_launcher.py:5: SettingWithCopyWarning: \n",
      "A value is trying to be set on a copy of a slice from a DataFrame.\n",
      "Try using .loc[row_indexer,col_indexer] = value instead\n",
      "\n",
      "See the caveats in the documentation: http://pandas.pydata.org/pandas-docs/stable/user_guide/indexing.html#returning-a-view-versus-a-copy\n",
      "  \"\"\"\n"
     ]
    },
    {
     "data": {
      "text/html": [
       "<div>\n",
       "<style scoped>\n",
       "    .dataframe tbody tr th:only-of-type {\n",
       "        vertical-align: middle;\n",
       "    }\n",
       "\n",
       "    .dataframe tbody tr th {\n",
       "        vertical-align: top;\n",
       "    }\n",
       "\n",
       "    .dataframe thead th {\n",
       "        text-align: right;\n",
       "    }\n",
       "</style>\n",
       "<table border=\"1\" class=\"dataframe\">\n",
       "  <thead>\n",
       "    <tr style=\"text-align: right;\">\n",
       "      <th></th>\n",
       "      <th>id</th>\n",
       "      <th>annual_inc</th>\n",
       "      <th>more_than_50k</th>\n",
       "      <th>loan_amnt</th>\n",
       "      <th>emp_length</th>\n",
       "      <th>tot_hi_cred_lim</th>\n",
       "      <th>fico_range_low</th>\n",
       "      <th>dti</th>\n",
       "      <th>purpose</th>\n",
       "      <th>application_type</th>\n",
       "      <th>grade</th>\n",
       "      <th>home_ownership</th>\n",
       "      <th>addr_state</th>\n",
       "    </tr>\n",
       "  </thead>\n",
       "  <tbody>\n",
       "    <tr>\n",
       "      <td>0</td>\n",
       "      <td>149328059</td>\n",
       "      <td>68000.0</td>\n",
       "      <td>1</td>\n",
       "      <td>13500.0</td>\n",
       "      <td>8.0</td>\n",
       "      <td>224894.0</td>\n",
       "      <td>750.0</td>\n",
       "      <td>15.74</td>\n",
       "      <td>debt_consolidation</td>\n",
       "      <td>Individual</td>\n",
       "      <td>A</td>\n",
       "      <td>MORTGAGE</td>\n",
       "      <td>PA</td>\n",
       "    </tr>\n",
       "    <tr>\n",
       "      <td>1</td>\n",
       "      <td>149420408</td>\n",
       "      <td>110000.0</td>\n",
       "      <td>1</td>\n",
       "      <td>20000.0</td>\n",
       "      <td>10.0</td>\n",
       "      <td>256497.0</td>\n",
       "      <td>675.0</td>\n",
       "      <td>23.44</td>\n",
       "      <td>major_purchase</td>\n",
       "      <td>Individual</td>\n",
       "      <td>D</td>\n",
       "      <td>RENT</td>\n",
       "      <td>NY</td>\n",
       "    </tr>\n",
       "    <tr>\n",
       "      <td>2</td>\n",
       "      <td>149453166</td>\n",
       "      <td>27840.0</td>\n",
       "      <td>0</td>\n",
       "      <td>1600.0</td>\n",
       "      <td>1.0</td>\n",
       "      <td>46994.0</td>\n",
       "      <td>685.0</td>\n",
       "      <td>15.99</td>\n",
       "      <td>other</td>\n",
       "      <td>Individual</td>\n",
       "      <td>B</td>\n",
       "      <td>RENT</td>\n",
       "      <td>TX</td>\n",
       "    </tr>\n",
       "    <tr>\n",
       "      <td>3</td>\n",
       "      <td>149491641</td>\n",
       "      <td>28000.0</td>\n",
       "      <td>0</td>\n",
       "      <td>6400.0</td>\n",
       "      <td>0.0</td>\n",
       "      <td>22700.0</td>\n",
       "      <td>700.0</td>\n",
       "      <td>8.62</td>\n",
       "      <td>debt_consolidation</td>\n",
       "      <td>Individual</td>\n",
       "      <td>C</td>\n",
       "      <td>RENT</td>\n",
       "      <td>NY</td>\n",
       "    </tr>\n",
       "    <tr>\n",
       "      <td>4</td>\n",
       "      <td>149513578</td>\n",
       "      <td>130000.0</td>\n",
       "      <td>1</td>\n",
       "      <td>25000.0</td>\n",
       "      <td>0.0</td>\n",
       "      <td>348856.0</td>\n",
       "      <td>695.0</td>\n",
       "      <td>23.27</td>\n",
       "      <td>small_business</td>\n",
       "      <td>Joint App</td>\n",
       "      <td>A</td>\n",
       "      <td>MORTGAGE</td>\n",
       "      <td>LA</td>\n",
       "    </tr>\n",
       "    <tr>\n",
       "      <td>...</td>\n",
       "      <td>...</td>\n",
       "      <td>...</td>\n",
       "      <td>...</td>\n",
       "      <td>...</td>\n",
       "      <td>...</td>\n",
       "      <td>...</td>\n",
       "      <td>...</td>\n",
       "      <td>...</td>\n",
       "      <td>...</td>\n",
       "      <td>...</td>\n",
       "      <td>...</td>\n",
       "      <td>...</td>\n",
       "      <td>...</td>\n",
       "    </tr>\n",
       "    <tr>\n",
       "      <td>115670</td>\n",
       "      <td>144957684</td>\n",
       "      <td>48000.0</td>\n",
       "      <td>0</td>\n",
       "      <td>5000.0</td>\n",
       "      <td>NaN</td>\n",
       "      <td>88613.0</td>\n",
       "      <td>735.0</td>\n",
       "      <td>8.28</td>\n",
       "      <td>home_improvement</td>\n",
       "      <td>Individual</td>\n",
       "      <td>C</td>\n",
       "      <td>MORTGAGE</td>\n",
       "      <td>FL</td>\n",
       "    </tr>\n",
       "    <tr>\n",
       "      <td>115671</td>\n",
       "      <td>143835299</td>\n",
       "      <td>96000.0</td>\n",
       "      <td>1</td>\n",
       "      <td>6000.0</td>\n",
       "      <td>0.0</td>\n",
       "      <td>33500.0</td>\n",
       "      <td>740.0</td>\n",
       "      <td>0.31</td>\n",
       "      <td>debt_consolidation</td>\n",
       "      <td>Individual</td>\n",
       "      <td>A</td>\n",
       "      <td>MORTGAGE</td>\n",
       "      <td>CT</td>\n",
       "    </tr>\n",
       "    <tr>\n",
       "      <td>115672</td>\n",
       "      <td>145177297</td>\n",
       "      <td>32000.0</td>\n",
       "      <td>0</td>\n",
       "      <td>16000.0</td>\n",
       "      <td>10.0</td>\n",
       "      <td>34200.0</td>\n",
       "      <td>685.0</td>\n",
       "      <td>20.89</td>\n",
       "      <td>debt_consolidation</td>\n",
       "      <td>Individual</td>\n",
       "      <td>C</td>\n",
       "      <td>MORTGAGE</td>\n",
       "      <td>CA</td>\n",
       "    </tr>\n",
       "    <tr>\n",
       "      <td>115673</td>\n",
       "      <td>145190854</td>\n",
       "      <td>72000.0</td>\n",
       "      <td>1</td>\n",
       "      <td>16000.0</td>\n",
       "      <td>5.0</td>\n",
       "      <td>251486.0</td>\n",
       "      <td>660.0</td>\n",
       "      <td>7.02</td>\n",
       "      <td>debt_consolidation</td>\n",
       "      <td>Individual</td>\n",
       "      <td>B</td>\n",
       "      <td>MORTGAGE</td>\n",
       "      <td>AZ</td>\n",
       "    </tr>\n",
       "    <tr>\n",
       "      <td>115674</td>\n",
       "      <td>145127877</td>\n",
       "      <td>65000.0</td>\n",
       "      <td>1</td>\n",
       "      <td>29250.0</td>\n",
       "      <td>7.0</td>\n",
       "      <td>237833.0</td>\n",
       "      <td>680.0</td>\n",
       "      <td>29.52</td>\n",
       "      <td>debt_consolidation</td>\n",
       "      <td>Individual</td>\n",
       "      <td>D</td>\n",
       "      <td>MORTGAGE</td>\n",
       "      <td>TX</td>\n",
       "    </tr>\n",
       "  </tbody>\n",
       "</table>\n",
       "<p>114688 rows × 13 columns</p>\n",
       "</div>"
      ],
      "text/plain": [
       "               id  annual_inc  more_than_50k  loan_amnt  emp_length  \\\n",
       "0       149328059     68000.0              1    13500.0         8.0   \n",
       "1       149420408    110000.0              1    20000.0        10.0   \n",
       "2       149453166     27840.0              0     1600.0         1.0   \n",
       "3       149491641     28000.0              0     6400.0         0.0   \n",
       "4       149513578    130000.0              1    25000.0         0.0   \n",
       "...           ...         ...            ...        ...         ...   \n",
       "115670  144957684     48000.0              0     5000.0         NaN   \n",
       "115671  143835299     96000.0              1     6000.0         0.0   \n",
       "115672  145177297     32000.0              0    16000.0        10.0   \n",
       "115673  145190854     72000.0              1    16000.0         5.0   \n",
       "115674  145127877     65000.0              1    29250.0         7.0   \n",
       "\n",
       "        tot_hi_cred_lim  fico_range_low    dti             purpose  \\\n",
       "0              224894.0           750.0  15.74  debt_consolidation   \n",
       "1              256497.0           675.0  23.44      major_purchase   \n",
       "2               46994.0           685.0  15.99               other   \n",
       "3               22700.0           700.0   8.62  debt_consolidation   \n",
       "4              348856.0           695.0  23.27      small_business   \n",
       "...                 ...             ...    ...                 ...   \n",
       "115670          88613.0           735.0   8.28    home_improvement   \n",
       "115671          33500.0           740.0   0.31  debt_consolidation   \n",
       "115672          34200.0           685.0  20.89  debt_consolidation   \n",
       "115673         251486.0           660.0   7.02  debt_consolidation   \n",
       "115674         237833.0           680.0  29.52  debt_consolidation   \n",
       "\n",
       "       application_type grade home_ownership addr_state  \n",
       "0            Individual     A       MORTGAGE         PA  \n",
       "1            Individual     D           RENT         NY  \n",
       "2            Individual     B           RENT         TX  \n",
       "3            Individual     C           RENT         NY  \n",
       "4             Joint App     A       MORTGAGE         LA  \n",
       "...                 ...   ...            ...        ...  \n",
       "115670       Individual     C       MORTGAGE         FL  \n",
       "115671       Individual     A       MORTGAGE         CT  \n",
       "115672       Individual     C       MORTGAGE         CA  \n",
       "115673       Individual     B       MORTGAGE         AZ  \n",
       "115674       Individual     D       MORTGAGE         TX  \n",
       "\n",
       "[114688 rows x 13 columns]"
      ]
     },
     "execution_count": 9,
     "metadata": {},
     "output_type": "execute_result"
    }
   ],
   "source": [
    "# final pick\n",
    "df1 = df[['id','annual_inc','loan_amnt','purpose','application_type','grade','emp_length','tot_hi_cred_lim','home_ownership','addr_state','fico_range_low','dti']]\n",
    "\n",
    "# clean id to numeric\n",
    "df1['id'] = pd.to_numeric(df1['id'])\n",
    "\n",
    "# clean emp_length\n",
    "df1 = df1.replace(to_replace=[\"< 1 year\", \"10+ years\"], value=[\"0\", \"10\"])\n",
    "df1['emp_length'] = df1['emp_length'].str.replace('years','')\n",
    "df1['emp_length'] = df1['emp_length'].str.replace('year','')\n",
    "df1['emp_length'] = pd.to_numeric(df1['emp_length'])\n",
    "\n",
    "# add more than 50k annual income column\n",
    "def annual_inc_calculate(row):\n",
    "    if row['annual_inc'] <= 50000:\n",
    "        val = 0\n",
    "    else:\n",
    "        val = 1\n",
    "    return val\n",
    "df1['more_than_50k'] = df.apply(annual_inc_calculate, axis=1)\n",
    "\n",
    "# limit dti\n",
    "high_dti = df1[df1['dti'] > 100].index\n",
    "df1.drop(high_dti, inplace=True)\n",
    "\n",
    "# limit tot_hi_cred_lim\n",
    "high_tot_hi_cred_lim = df1[df1['tot_hi_cred_lim'] > 1000000].index\n",
    "df1.drop(high_tot_hi_cred_lim, inplace=True)\n",
    "\n",
    "#show df\n",
    "df1 = df1[['id','annual_inc','more_than_50k','loan_amnt','emp_length','tot_hi_cred_lim','fico_range_low','dti','purpose','application_type','grade','home_ownership','addr_state']]\n",
    "df1"
   ]
  },
  {
   "cell_type": "markdown",
   "metadata": {},
   "source": [
    "### Drops any NaN found"
   ]
  },
  {
   "cell_type": "code",
   "execution_count": null,
   "metadata": {},
   "outputs": [],
   "source": [
    "df1 = df1.dropna()"
   ]
  },
  {
   "cell_type": "code",
   "execution_count": 10,
   "metadata": {},
   "outputs": [],
   "source": [
    "y = df1[['more_than_50k']]\n",
    "X = df1.drop(['id', 'annual_inc', 'more_than_50k', 'purpose',\n",
    "     'application_type', 'grade', 'home_ownership', 'addr_state'], axis=1)\n",
    "\n",
    "scale = MinMaxScaler()\n",
    "transformed = scale.fit_transform(X)\n",
    "X = pd.DataFrame(transformed, columns = X.columns)"
   ]
  },
  {
   "cell_type": "markdown",
   "metadata": {},
   "source": [
    "### EDA"
   ]
  },
  {
   "cell_type": "code",
   "execution_count": 20,
   "metadata": {},
   "outputs": [
    {
     "data": {
      "image/png": "[encoded data removed]",
      "text/plain": [
       "<Figure size 2160x1440 with 6 Axes>"
      ]
     },
     "metadata": {
      "needs_background": "light"
     },
     "output_type": "display_data"
    }
   ],
   "source": [
    "feat = df1.loc[:, 'more_than_50k':'dti']\n",
    "feat.hist(figsize=(30,20));"
   ]
  },
  {
   "cell_type": "code",
   "execution_count": 18,
   "metadata": {
    "scrolled": false
   },
   "outputs": [
    {
     "data": {
      "image/png": "[encoded data removed]",
      "text/plain": [
       "<Figure size 720x720 with 1 Axes>"
      ]
     },
     "metadata": {
      "needs_background": "light"
     },
     "output_type": "display_data"
    }
   ],
   "source": [
    "feat.boxplot(figsize=(10,10));"
   ]
  },
  {
   "cell_type": "markdown",
   "metadata": {},
   "source": [
    "### Create dummies"
   ]
  },
  {
   "cell_type": "code",
   "execution_count": 15,
   "metadata": {},
   "outputs": [],
   "source": [
    "df1 = pd.get_dummies(df1, drop_first=True)"
   ]
  },
  {
   "cell_type": "code",
   "execution_count": null,
   "metadata": {},
   "outputs": [],
   "source": []
  },
  {
   "cell_type": "code",
   "execution_count": null,
   "metadata": {},
   "outputs": [],
   "source": []
  },
  {
   "cell_type": "code",
   "execution_count": null,
   "metadata": {},
   "outputs": [],
   "source": []
  },
  {
   "cell_type": "code",
   "execution_count": null,
   "metadata": {},
   "outputs": [],
   "source": []
  }
 ],
 "metadata": {
  "kernelspec": {
   "display_name": "Python 3",
   "language": "python",
   "name": "python3"
  },
  "language_info": {
   "codemirror_mode": {
    "name": "ipython",
    "version": 3
   },
   "file_extension": ".py",
   "mimetype": "text/x-python",
   "name": "python",
   "nbconvert_exporter": "python",
   "pygments_lexer": "ipython3",
   "version": "3.7.4"
  }
 },
 "nbformat": 4,
 "nbformat_minor": 2
}
